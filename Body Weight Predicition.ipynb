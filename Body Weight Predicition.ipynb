{
 "cells": [
  {
   "cell_type": "code",
   "execution_count": 1,
   "id": "bc4d7572",
   "metadata": {},
   "outputs": [],
   "source": [
    "import pandas as pd\n",
    "import numpy as np\n",
    "import matplotlib.pyplot as plt\n",
    "import seaborn as sns"
   ]
  },
  {
   "cell_type": "code",
   "execution_count": 2,
   "id": "85f44b0e",
   "metadata": {},
   "outputs": [
    {
     "data": {
      "text/html": [
       "<div>\n",
       "<style scoped>\n",
       "    .dataframe tbody tr th:only-of-type {\n",
       "        vertical-align: middle;\n",
       "    }\n",
       "\n",
       "    .dataframe tbody tr th {\n",
       "        vertical-align: top;\n",
       "    }\n",
       "\n",
       "    .dataframe thead th {\n",
       "        text-align: right;\n",
       "    }\n",
       "</style>\n",
       "<table border=\"1\" class=\"dataframe\">\n",
       "  <thead>\n",
       "    <tr style=\"text-align: right;\">\n",
       "      <th></th>\n",
       "      <th>playerId</th>\n",
       "      <th>Name</th>\n",
       "      <th>Sex</th>\n",
       "      <th>Equipment</th>\n",
       "      <th>Age</th>\n",
       "      <th>BodyweightKg</th>\n",
       "      <th>BestSquatKg</th>\n",
       "      <th>BestDeadliftKg</th>\n",
       "    </tr>\n",
       "  </thead>\n",
       "  <tbody>\n",
       "    <tr>\n",
       "      <th>0</th>\n",
       "      <td>19391.0</td>\n",
       "      <td>Carlos Ceron</td>\n",
       "      <td>M</td>\n",
       "      <td>Raw</td>\n",
       "      <td>23.0</td>\n",
       "      <td>87.30</td>\n",
       "      <td>205.0</td>\n",
       "      <td>235.00</td>\n",
       "    </tr>\n",
       "    <tr>\n",
       "      <th>1</th>\n",
       "      <td>15978.0</td>\n",
       "      <td>Tito Herrera</td>\n",
       "      <td>M</td>\n",
       "      <td>Wraps</td>\n",
       "      <td>23.0</td>\n",
       "      <td>73.48</td>\n",
       "      <td>220.0</td>\n",
       "      <td>260.00</td>\n",
       "    </tr>\n",
       "    <tr>\n",
       "      <th>2</th>\n",
       "      <td>27209.0</td>\n",
       "      <td>Levi Lehman</td>\n",
       "      <td>M</td>\n",
       "      <td>Raw</td>\n",
       "      <td>26.0</td>\n",
       "      <td>112.40</td>\n",
       "      <td>142.5</td>\n",
       "      <td>220.00</td>\n",
       "    </tr>\n",
       "    <tr>\n",
       "      <th>3</th>\n",
       "      <td>27496.0</td>\n",
       "      <td>Stacy Hayford</td>\n",
       "      <td>F</td>\n",
       "      <td>Raw</td>\n",
       "      <td>35.0</td>\n",
       "      <td>59.42</td>\n",
       "      <td>95.0</td>\n",
       "      <td>102.50</td>\n",
       "    </tr>\n",
       "    <tr>\n",
       "      <th>4</th>\n",
       "      <td>20293.0</td>\n",
       "      <td>Brittany Hirt</td>\n",
       "      <td>F</td>\n",
       "      <td>Raw</td>\n",
       "      <td>26.5</td>\n",
       "      <td>61.40</td>\n",
       "      <td>105.0</td>\n",
       "      <td>127.50</td>\n",
       "    </tr>\n",
       "    <tr>\n",
       "      <th>...</th>\n",
       "      <td>...</td>\n",
       "      <td>...</td>\n",
       "      <td>...</td>\n",
       "      <td>...</td>\n",
       "      <td>...</td>\n",
       "      <td>...</td>\n",
       "      <td>...</td>\n",
       "      <td>...</td>\n",
       "    </tr>\n",
       "    <tr>\n",
       "      <th>18895</th>\n",
       "      <td>29802.0</td>\n",
       "      <td>Rachael Podolak</td>\n",
       "      <td>F</td>\n",
       "      <td>Raw</td>\n",
       "      <td>20.0</td>\n",
       "      <td>65.70</td>\n",
       "      <td>92.5</td>\n",
       "      <td>135.00</td>\n",
       "    </tr>\n",
       "    <tr>\n",
       "      <th>18896</th>\n",
       "      <td>5390.0</td>\n",
       "      <td>Daniel Andersen</td>\n",
       "      <td>M</td>\n",
       "      <td>Raw</td>\n",
       "      <td>23.5</td>\n",
       "      <td>88.85</td>\n",
       "      <td>190.0</td>\n",
       "      <td>230.00</td>\n",
       "    </tr>\n",
       "    <tr>\n",
       "      <th>18897</th>\n",
       "      <td>860.0</td>\n",
       "      <td>Mark Brewer</td>\n",
       "      <td>M</td>\n",
       "      <td>Multi-ply</td>\n",
       "      <td>43.0</td>\n",
       "      <td>106.78</td>\n",
       "      <td>206.38</td>\n",
       "      <td>229.06</td>\n",
       "    </tr>\n",
       "    <tr>\n",
       "      <th>18898</th>\n",
       "      <td>15795.0</td>\n",
       "      <td>Michael Perkins</td>\n",
       "      <td>M</td>\n",
       "      <td>Raw</td>\n",
       "      <td>22.5</td>\n",
       "      <td>82.00</td>\n",
       "      <td>235.0</td>\n",
       "      <td>272.50</td>\n",
       "    </tr>\n",
       "    <tr>\n",
       "      <th>18899</th>\n",
       "      <td>23654.0</td>\n",
       "      <td>Art Reyna</td>\n",
       "      <td>M</td>\n",
       "      <td>Single-ply</td>\n",
       "      <td>15.0</td>\n",
       "      <td>59.42</td>\n",
       "      <td>130.0</td>\n",
       "      <td>140.00</td>\n",
       "    </tr>\n",
       "  </tbody>\n",
       "</table>\n",
       "<p>18900 rows × 8 columns</p>\n",
       "</div>"
      ],
      "text/plain": [
       "       playerId             Name Sex   Equipment   Age  BodyweightKg  \\\n",
       "0       19391.0     Carlos Ceron   M         Raw  23.0         87.30   \n",
       "1       15978.0     Tito Herrera   M       Wraps  23.0         73.48   \n",
       "2       27209.0      Levi Lehman   M         Raw  26.0        112.40   \n",
       "3       27496.0    Stacy Hayford   F         Raw  35.0         59.42   \n",
       "4       20293.0    Brittany Hirt   F         Raw  26.5         61.40   \n",
       "...         ...              ...  ..         ...   ...           ...   \n",
       "18895   29802.0  Rachael Podolak   F         Raw  20.0         65.70   \n",
       "18896    5390.0  Daniel Andersen   M         Raw  23.5         88.85   \n",
       "18897     860.0      Mark Brewer   M   Multi-ply  43.0        106.78   \n",
       "18898   15795.0  Michael Perkins   M         Raw  22.5         82.00   \n",
       "18899   23654.0        Art Reyna   M  Single-ply  15.0         59.42   \n",
       "\n",
       "      BestSquatKg  BestDeadliftKg  \n",
       "0           205.0          235.00  \n",
       "1           220.0          260.00  \n",
       "2           142.5          220.00  \n",
       "3            95.0          102.50  \n",
       "4           105.0          127.50  \n",
       "...           ...             ...  \n",
       "18895        92.5          135.00  \n",
       "18896       190.0          230.00  \n",
       "18897      206.38          229.06  \n",
       "18898       235.0          272.50  \n",
       "18899       130.0          140.00  \n",
       "\n",
       "[18900 rows x 8 columns]"
      ]
     },
     "execution_count": 2,
     "metadata": {},
     "output_type": "execute_result"
    }
   ],
   "source": [
    "df=pd.read_csv(r'X_train.csv')\n",
    "df"
   ]
  },
  {
   "cell_type": "code",
   "execution_count": 3,
   "id": "e7a6cac8",
   "metadata": {},
   "outputs": [
    {
     "data": {
      "text/plain": [
       "array([ 87.3 ,  73.48, 112.4 , ..., 118.16, 145.5 ,  51.16])"
      ]
     },
     "execution_count": 3,
     "metadata": {},
     "output_type": "execute_result"
    }
   ],
   "source": [
    "df['BodyweightKg'].unique()"
   ]
  },
  {
   "cell_type": "code",
   "execution_count": 4,
   "id": "fc657f97",
   "metadata": {},
   "outputs": [
    {
     "data": {
      "text/plain": [
       "Index(['playerId', 'Name', 'Sex', 'Equipment', 'Age', 'BodyweightKg',\n",
       "       'BestSquatKg', 'BestDeadliftKg'],\n",
       "      dtype='object')"
      ]
     },
     "execution_count": 4,
     "metadata": {},
     "output_type": "execute_result"
    }
   ],
   "source": [
    "df.columns"
   ]
  },
  {
   "cell_type": "code",
   "execution_count": 5,
   "id": "6298ef8d",
   "metadata": {},
   "outputs": [
    {
     "data": {
      "text/html": [
       "<div>\n",
       "<style scoped>\n",
       "    .dataframe tbody tr th:only-of-type {\n",
       "        vertical-align: middle;\n",
       "    }\n",
       "\n",
       "    .dataframe tbody tr th {\n",
       "        vertical-align: top;\n",
       "    }\n",
       "\n",
       "    .dataframe thead th {\n",
       "        text-align: right;\n",
       "    }\n",
       "</style>\n",
       "<table border=\"1\" class=\"dataframe\">\n",
       "  <thead>\n",
       "    <tr style=\"text-align: right;\">\n",
       "      <th></th>\n",
       "      <th>playerId</th>\n",
       "      <th>Age</th>\n",
       "      <th>BodyweightKg</th>\n",
       "      <th>BestDeadliftKg</th>\n",
       "    </tr>\n",
       "  </thead>\n",
       "  <tbody>\n",
       "    <tr>\n",
       "      <th>count</th>\n",
       "      <td>18900.00000</td>\n",
       "      <td>18725.00000</td>\n",
       "      <td>18900.000000</td>\n",
       "      <td>18900.00000</td>\n",
       "    </tr>\n",
       "    <tr>\n",
       "      <th>mean</th>\n",
       "      <td>15039.49963</td>\n",
       "      <td>29.66470</td>\n",
       "      <td>85.425557</td>\n",
       "      <td>201.12277</td>\n",
       "    </tr>\n",
       "    <tr>\n",
       "      <th>std</th>\n",
       "      <td>8674.67268</td>\n",
       "      <td>11.55708</td>\n",
       "      <td>22.959720</td>\n",
       "      <td>62.17163</td>\n",
       "    </tr>\n",
       "    <tr>\n",
       "      <th>min</th>\n",
       "      <td>0.00000</td>\n",
       "      <td>7.00000</td>\n",
       "      <td>26.130000</td>\n",
       "      <td>18.10000</td>\n",
       "    </tr>\n",
       "    <tr>\n",
       "      <th>25%</th>\n",
       "      <td>7462.75000</td>\n",
       "      <td>21.50000</td>\n",
       "      <td>67.700000</td>\n",
       "      <td>149.85750</td>\n",
       "    </tr>\n",
       "    <tr>\n",
       "      <th>50%</th>\n",
       "      <td>15122.50000</td>\n",
       "      <td>26.50000</td>\n",
       "      <td>82.100000</td>\n",
       "      <td>204.12000</td>\n",
       "    </tr>\n",
       "    <tr>\n",
       "      <th>75%</th>\n",
       "      <td>22540.25000</td>\n",
       "      <td>35.00000</td>\n",
       "      <td>98.970000</td>\n",
       "      <td>247.50000</td>\n",
       "    </tr>\n",
       "    <tr>\n",
       "      <th>max</th>\n",
       "      <td>29998.00000</td>\n",
       "      <td>83.00000</td>\n",
       "      <td>201.000000</td>\n",
       "      <td>408.23000</td>\n",
       "    </tr>\n",
       "  </tbody>\n",
       "</table>\n",
       "</div>"
      ],
      "text/plain": [
       "          playerId          Age  BodyweightKg  BestDeadliftKg\n",
       "count  18900.00000  18725.00000  18900.000000     18900.00000\n",
       "mean   15039.49963     29.66470     85.425557       201.12277\n",
       "std     8674.67268     11.55708     22.959720        62.17163\n",
       "min        0.00000      7.00000     26.130000        18.10000\n",
       "25%     7462.75000     21.50000     67.700000       149.85750\n",
       "50%    15122.50000     26.50000     82.100000       204.12000\n",
       "75%    22540.25000     35.00000     98.970000       247.50000\n",
       "max    29998.00000     83.00000    201.000000       408.23000"
      ]
     },
     "execution_count": 5,
     "metadata": {},
     "output_type": "execute_result"
    }
   ],
   "source": [
    "df.describe()"
   ]
  },
  {
   "cell_type": "code",
   "execution_count": 6,
   "id": "c37623ae",
   "metadata": {},
   "outputs": [
    {
     "name": "stdout",
     "output_type": "stream",
     "text": [
      "<class 'pandas.core.frame.DataFrame'>\n",
      "RangeIndex: 18900 entries, 0 to 18899\n",
      "Data columns (total 8 columns):\n",
      " #   Column          Non-Null Count  Dtype  \n",
      "---  ------          --------------  -----  \n",
      " 0   playerId        18900 non-null  float64\n",
      " 1   Name            18900 non-null  object \n",
      " 2   Sex             18900 non-null  object \n",
      " 3   Equipment       18900 non-null  object \n",
      " 4   Age             18725 non-null  float64\n",
      " 5   BodyweightKg    18900 non-null  float64\n",
      " 6   BestSquatKg     18900 non-null  object \n",
      " 7   BestDeadliftKg  18900 non-null  float64\n",
      "dtypes: float64(4), object(4)\n",
      "memory usage: 1.2+ MB\n"
     ]
    }
   ],
   "source": [
    "df.info()"
   ]
  },
  {
   "cell_type": "code",
   "execution_count": 7,
   "id": "3ff0dc0a",
   "metadata": {},
   "outputs": [
    {
     "data": {
      "text/plain": [
       "playerId            0\n",
       "Name                0\n",
       "Sex                 0\n",
       "Equipment           0\n",
       "Age               175\n",
       "BodyweightKg        0\n",
       "BestSquatKg         0\n",
       "BestDeadliftKg      0\n",
       "dtype: int64"
      ]
     },
     "execution_count": 7,
     "metadata": {},
     "output_type": "execute_result"
    }
   ],
   "source": [
    "df.isnull().sum()"
   ]
  },
  {
   "cell_type": "code",
   "execution_count": 8,
   "id": "46d89f57",
   "metadata": {},
   "outputs": [
    {
     "data": {
      "text/plain": [
       "<AxesSubplot:xlabel='Sex'>"
      ]
     },
     "execution_count": 8,
     "metadata": {},
     "output_type": "execute_result"
    },
    {
     "data": {
      "image/png": "[encoded data removed]",
      "text/plain": [
       "<Figure size 432x288 with 1 Axes>"
      ]
     },
     "metadata": {
      "needs_background": "light"
     },
     "output_type": "display_data"
    }
   ],
   "source": [
    "df.groupby('Sex')['BodyweightKg'].mean().plot.bar()"
   ]
  },
  {
   "cell_type": "code",
   "execution_count": 9,
   "id": "b9792c44",
   "metadata": {},
   "outputs": [
    {
     "data": {
      "text/plain": [
       "array([ 87.3 ,  73.48, 112.4 , ..., 118.16, 145.5 ,  51.16])"
      ]
     },
     "execution_count": 9,
     "metadata": {},
     "output_type": "execute_result"
    }
   ],
   "source": [
    "df['BodyweightKg'].unique()"
   ]
  },
  {
   "cell_type": "code",
   "execution_count": 10,
   "id": "4676984c",
   "metadata": {},
   "outputs": [
    {
     "data": {
      "text/plain": [
       "<AxesSubplot:xlabel='Equipment'>"
      ]
     },
     "execution_count": 10,
     "metadata": {},
     "output_type": "execute_result"
    },
    {
     "data": {
      "image/png": "[encoded data removed]",
      "text/plain": [
       "<Figure size 432x288 with 1 Axes>"
      ]
     },
     "metadata": {
      "needs_background": "light"
     },
     "output_type": "display_data"
    }
   ],
   "source": [
    "df.groupby('Equipment')['BodyweightKg'].mean().plot.bar()"
   ]
  },
  {
   "cell_type": "code",
   "execution_count": 11,
   "id": "cd1d0f04",
   "metadata": {},
   "outputs": [
    {
     "data": {
      "text/plain": [
       "array(['205.0', '220.0', '142.5', '95.0', '105.0', '260.0', '162.5',\n",
       "       '200.0', '115.0', '72.5', '157.5', '172.5', '183.7', '292.5',\n",
       "       '90.0', '215.0', '102.5', '190.0', '122.5', '310.0', '110.0',\n",
       "       '85.0', '197.5', '204.12', '250.0', '167.5', '97.5', '82.5',\n",
       "       '145.0', '320.0', '92.5', '255.0', '265.35', '180.0', '283.5',\n",
       "       '242.5', '225.0', '160.0', '275.0', '235.0', '97.52', '252.5',\n",
       "       '140.0', '232.5', '175.0', '192.78', '170.0', '240.0', '222.5',\n",
       "       '227.5', '267.5', '342.5', '177.5', '222.3', '297.1', '137.5',\n",
       "       '182.5', '155.0', '130.0', '212.5', '295.0', '135.0', '102..5',\n",
       "       '210.0', '114.99', '295.02', '149.69', '167.83', '165.56', '77.5',\n",
       "       '230.0', '247.5', '152.5', '112.5', '192.5', '117.5', '165.0',\n",
       "       '125.0', '285.0', '245.0', '-197.5', '107.5', '297.5', '395.0',\n",
       "       '280.0', '233.6', '185.0', '207.5', '237.5', '142.88', '195.0',\n",
       "       '370.0', '302.5', '127.5', '80.0', '430.0', '113.4', '150.0',\n",
       "       '147.5', '282.5', '290.0', '120.0', '-322.5', '217.5', '257.5',\n",
       "       '300.0', '100.0', '168.5', '27.5', '136.08', '322.5', '151.95',\n",
       "       '62.5', '477.5', '265.0', '65.0', '315.0', '132.5', '270.0',\n",
       "       '330.0', '202.5', '67.5', '47.5', '350.0', '305.0', '287.5',\n",
       "       '75.0', '172.37', '154.22', '277.5', '385.0', '-162.5', '187.5',\n",
       "       '174.5', '249.48', '90.72', '52.5', '-237.5', '92.99', '-212.5',\n",
       "       '360.0', '50.0', '70.0', '272.5', '260.82', '312.5', '87.5',\n",
       "       '163.0', '204.1', '-110.0', '307.5', '332.5', '352.5', '117.93',\n",
       "       '226.8', '142.9', '206.0', '192.44', '60.0', '251.74', '304.93',\n",
       "       '415.0', '216.0', '93.0', '59.0', '317.51', '161.03', '86.18',\n",
       "       '156.49', '83.9', '397.5', '229.06', '215.46', '248.0', '345.0',\n",
       "       '310.5', '333.39', '195.04', '262.5', '164.97', '410.0', '317.5',\n",
       "       '238.14', '367.5', '-105.0', '224.5', '131.5', '163.29', '355.0',\n",
       "       '57.5', '347.5', '138.0', '278.0', '244.94', '340.0', '325.0',\n",
       "       '-207.5', '410.5', '42.5', '419.57', '135.5', '203.0', '147.42',\n",
       "       '32.5', '272.16', '37.5', '318.0', '380.0', '224.53', '52.16',\n",
       "       '111.13', '382.5', '210.92', '102.06', '365.0', '56.7', '174.63',\n",
       "       '242.67', '99.79', '263.1', '228.0', '240.4', '115.67', '170.1',\n",
       "       '179.17', '208.65', '197.31', '77.11', '199.58', '169.98', '335.0',\n",
       "       '247.21', '215.5', '185.97', '327.5', '227..5', '375.0', '387.49',\n",
       "       '133..0', '217.72', '274.42', '337.5', '95.25', '192..5', '405.0',\n",
       "       '331.12', '105..0', '235.87', '120.2', '55.0', '129.27', '140.5',\n",
       "       '-115.0', '412.5', '264.99', '213.19', '-82.5', '392.5', '-182.5',\n",
       "       '25.0', '70.3', '68.04', '74.84', '217.7', '81.65', '136.1',\n",
       "       '183.5', '357.5', '387.5', '400.0', '415.04', '267.62', '144.92',\n",
       "       '181.44', '390.0', '70.31', '196.0', '204.91', '197.43', '328.85',\n",
       "       '278.96', '460.0', '480.81', '-100.0', '106.59', '206.38',\n",
       "       '124.74', '83.91', '231.33', '95.5', '-250.0', '-85.0', '263.08',\n",
       "       '192.41', '195..0', '58.97', '362.87', '290.5', '188.0', '310.71',\n",
       "       '453.59', '326.59', '-170.0', '256.28', '385.55', '237..5',\n",
       "       '-160.0', '250.5', '375.5', '447.5', '197.3', '158.76', '108.86',\n",
       "       '35.0', '151.0', '222.26', '74.8', '294.84', '65.8', '114.0',\n",
       "       '377.5', '-192.5', '163.3', '188.24', '158.8', '-137.5', '168.0',\n",
       "       '-92.5', '154.2', '254.01', '339.99', '161.0', '455.0', '199.99',\n",
       "       '30.0', '404.99', '285.8', '124.7', '267.39', '122.47', '272.2',\n",
       "       '425.0', '119.98', '118.0', '79.4', '387.82', '108.9', '79.38',\n",
       "       '275.5', '122..5', '-45.0', '365.14', '156.5', '312.98', '45.36',\n",
       "       '-210.0', '175.5', '113.0', '104.3', '500.0', '160.5', '437.5',\n",
       "       '127.01', '435.0', '81.7', '416.0', '340.19', '254.0', '470.0',\n",
       "       '-75.0', '276.69', '98.0', '115.5', '199.92', '402.5', '200.5',\n",
       "       '145.5', '299.37', '219.99', '-67.5', '420.0', '356.07', '183.0',\n",
       "       '-227.5', '-130.0', '145.15', '-155.0', '-190.0', '369.68',\n",
       "       '301.64', '63.5', '258.55', '452.5', '269.89', '-127.5', '-70.0',\n",
       "       '86.2', '356.0', '207.0', '489.88', '353.8', '306.17', '-95.0',\n",
       "       '102.4', '40.0', '467.2', '-230.0', '210.01', '103.0', '372.5',\n",
       "       '45.0', '29.48', '95.3', '213.2', '423.0', '165.02', '-260.0',\n",
       "       '235.5', '303.5', '130.5', '432.5', '-185.0', '133.81', '97.41',\n",
       "       '258.6', '-235.0', '240.5', '158.0', '366.0', '176.9', '-290.0',\n",
       "       '465.0', '153.0', '188.2', '102.1', '430.91', '115.7', '239.95',\n",
       "       '164.99', '227.52', '308.44', '327.49', '15.0', '20.0', '212.51',\n",
       "       '38.0', '-102.5', '-247.5', '210.9', '138.4', '137.44', '186.0',\n",
       "       '121.5', '218.86', '117.9', '319.8', '-292.5', '69.97', '440.0',\n",
       "       '480.0', '-317.5', '374.21', '462.66', '61.23', '238.0', '75.5',\n",
       "       '126.0', '362.5', '131.54', '444.52', '208.0', '303.91', '279.0',\n",
       "       '344.73', '-87.5', '285.76', '190.51', '165.6', '-225.0', '106.0',\n",
       "       '-157.5', '184.0', '120.5', '221.0', '133.8', '248.5', '276.0',\n",
       "       '139.93', '133.0', '-272.5', '249.5', '159.98', '-145.0', '295..0',\n",
       "       '295.5', '255.5', '127.0', '-215.0', '427.5', '147.4', '178.0',\n",
       "       '61.0', '230.5', '450.0', '228.5', '232.47', '104.33', '235.01',\n",
       "       '442.25', '88.45', '281.23', '-180.0', '260.8', '202.0', '170.01',\n",
       "       '163.5', '319.9', '13.6', '475.0', '140.61', '288.03', '-202.5',\n",
       "       '40.8', '-140.0', '322.05', '241.5', '180..0', '223.5', '65.77',\n",
       "       '351.53', '467.5', '184.61', '110.5', '265.5', '371.95', '205..0',\n",
       "       '110..0', '-295.0', '106.6', '105.01', '50.5', '213.0', '363.0',\n",
       "       '220..0', '170.5', '417.5', '-72.5', '233.0', '185.5', '220.5',\n",
       "       '121.0', '176.0', '123.0', '174.0', '216.5', '253.0', '384.83',\n",
       "       '340.5', '193.0', '422.5', '147.0', '201.9', '246.0', '231.3',\n",
       "       '52.2', '206.4', '290.3', '154.99', '367.41', '280.5', '131.0',\n",
       "       '138.35', '152.0', '329.76', '128.0', '338.0', '90.5', '201.85',\n",
       "       '285.5', '129.3', '148.0', '173.0', '457.5', '143.0', '445.0',\n",
       "       '421.84', '412.77', '149.7', '142.43', '-300.0', '-65.0', '99.8',\n",
       "       '-285.0', '298.0', '247.2', '324.32', '181.0', '267.6', '292.57',\n",
       "       '204.98', '145.2', '198.0', '315.5', '81.5', '103.5', '145..0',\n",
       "       '277.51', '381.02', '408.23', '167.8', '146.0', '127.46', '-165.0',\n",
       "       '174.6', '227.48', '-330.0', '442.5', '-112.5', '-252.5', '237.0',\n",
       "       '136.5', '172.4', '319.78', '207..5', '181.4', '231.0'],\n",
       "      dtype=object)"
      ]
     },
     "execution_count": 11,
     "metadata": {},
     "output_type": "execute_result"
    }
   ],
   "source": [
    "df['BestSquatKg'].unique()"
   ]
  },
  {
   "cell_type": "code",
   "execution_count": 12,
   "id": "af49167f",
   "metadata": {},
   "outputs": [
    {
     "data": {
      "text/plain": [
       "array([ 87.3 ,  73.48, 112.4 , ..., 118.16, 145.5 ,  51.16])"
      ]
     },
     "execution_count": 12,
     "metadata": {},
     "output_type": "execute_result"
    }
   ],
   "source": [
    "df['BodyweightKg'].unique()"
   ]
  },
  {
   "cell_type": "code",
   "execution_count": 13,
   "id": "2a4579be",
   "metadata": {},
   "outputs": [],
   "source": [
    "df['BestSquatKg'] = df['BestSquatKg'].apply(lambda x: x.replace('..','') )\n",
    "df['BestSquatKg'] = df['BestSquatKg'].apply(lambda x: x.replace('-','') ).astype(float)"
   ]
  },
  {
   "cell_type": "code",
   "execution_count": 14,
   "id": "ad39ded0",
   "metadata": {},
   "outputs": [
    {
     "data": {
      "image/png": "[encoded data removed]",
      "text/plain": [
       "<Figure size 432x288 with 1 Axes>"
      ]
     },
     "metadata": {
      "needs_background": "light"
     },
     "output_type": "display_data"
    },
    {
     "data": {
      "image/png": "[encoded data removed]",
      "text/plain": [
       "<Figure size 432x288 with 1 Axes>"
      ]
     },
     "metadata": {
      "needs_background": "light"
     },
     "output_type": "display_data"
    }
   ],
   "source": [
    "numerical_col =[feature for feature in df.columns if df[feature].dtypes =='float64'and feature not in 'playerId'+ 'Age'+'BodyweightKg']\n",
    "for feature in numerical_col:\n",
    "    sns.scatterplot(x='BodyweightKg', y=df[feature],data=df)\n",
    "    plt.show()"
   ]
  },
  {
   "cell_type": "code",
   "execution_count": 15,
   "id": "202bbcee",
   "metadata": {},
   "outputs": [
    {
     "data": {
      "text/plain": [
       "array([ 87.3 ,  73.48, 112.4 , ..., 118.16, 145.5 ,  51.16])"
      ]
     },
     "execution_count": 15,
     "metadata": {},
     "output_type": "execute_result"
    }
   ],
   "source": [
    "df['BodyweightKg'].unique()"
   ]
  },
  {
   "cell_type": "code",
   "execution_count": 16,
   "id": "9a7c79f7",
   "metadata": {},
   "outputs": [
    {
     "name": "stderr",
     "output_type": "stream",
     "text": [
      "C:\\Users\\91829\\OneDrive\\Documents\\Anaconda\\lib\\site-packages\\seaborn\\_decorators.py:36: FutureWarning: Pass the following variable as a keyword arg: x. From version 0.12, the only valid positional argument will be `data`, and passing other arguments without an explicit keyword will result in an error or misinterpretation.\n",
      "  warnings.warn(\n"
     ]
    },
    {
     "data": {
      "text/plain": [
       "<AxesSubplot:xlabel='Age'>"
      ]
     },
     "execution_count": 16,
     "metadata": {},
     "output_type": "execute_result"
    },
    {
     "data": {
      "image/png": "[encoded data removed]",
      "text/plain": [
       "<Figure size 432x288 with 1 Axes>"
      ]
     },
     "metadata": {
      "needs_background": "light"
     },
     "output_type": "display_data"
    }
   ],
   "source": [
    "sns.boxplot(df['Age'])"
   ]
  },
  {
   "cell_type": "code",
   "execution_count": 17,
   "id": "3f4d19df",
   "metadata": {},
   "outputs": [
    {
     "data": {
      "text/plain": [
       "array([ 87.3 ,  73.48, 112.4 , ..., 118.16, 145.5 ,  51.16])"
      ]
     },
     "execution_count": 17,
     "metadata": {},
     "output_type": "execute_result"
    }
   ],
   "source": [
    "df['BodyweightKg'].unique()"
   ]
  },
  {
   "cell_type": "code",
   "execution_count": 18,
   "id": "3d327033",
   "metadata": {},
   "outputs": [],
   "source": [
    "df['Age']=df['Age'].fillna(df.Age.median())"
   ]
  },
  {
   "cell_type": "code",
   "execution_count": 19,
   "id": "527b6739",
   "metadata": {},
   "outputs": [
    {
     "data": {
      "text/plain": [
       "0"
      ]
     },
     "execution_count": 19,
     "metadata": {},
     "output_type": "execute_result"
    }
   ],
   "source": [
    "df['Age'].isnull().sum()"
   ]
  },
  {
   "cell_type": "code",
   "execution_count": 20,
   "id": "bdbcbab5",
   "metadata": {},
   "outputs": [],
   "source": [
    "#drop the playerid and player name\n",
    "df.drop(['playerId','Name'],axis =1 ,inplace=True)"
   ]
  },
  {
   "cell_type": "code",
   "execution_count": 21,
   "id": "b8b9ec7b",
   "metadata": {},
   "outputs": [
    {
     "data": {
      "text/html": [
       "<div>\n",
       "<style scoped>\n",
       "    .dataframe tbody tr th:only-of-type {\n",
       "        vertical-align: middle;\n",
       "    }\n",
       "\n",
       "    .dataframe tbody tr th {\n",
       "        vertical-align: top;\n",
       "    }\n",
       "\n",
       "    .dataframe thead th {\n",
       "        text-align: right;\n",
       "    }\n",
       "</style>\n",
       "<table border=\"1\" class=\"dataframe\">\n",
       "  <thead>\n",
       "    <tr style=\"text-align: right;\">\n",
       "      <th></th>\n",
       "      <th>Sex</th>\n",
       "      <th>Equipment</th>\n",
       "      <th>Age</th>\n",
       "      <th>BodyweightKg</th>\n",
       "      <th>BestSquatKg</th>\n",
       "      <th>BestDeadliftKg</th>\n",
       "    </tr>\n",
       "  </thead>\n",
       "  <tbody>\n",
       "    <tr>\n",
       "      <th>0</th>\n",
       "      <td>M</td>\n",
       "      <td>Raw</td>\n",
       "      <td>23.0</td>\n",
       "      <td>87.30</td>\n",
       "      <td>205.0</td>\n",
       "      <td>235.0</td>\n",
       "    </tr>\n",
       "    <tr>\n",
       "      <th>1</th>\n",
       "      <td>M</td>\n",
       "      <td>Wraps</td>\n",
       "      <td>23.0</td>\n",
       "      <td>73.48</td>\n",
       "      <td>220.0</td>\n",
       "      <td>260.0</td>\n",
       "    </tr>\n",
       "    <tr>\n",
       "      <th>2</th>\n",
       "      <td>M</td>\n",
       "      <td>Raw</td>\n",
       "      <td>26.0</td>\n",
       "      <td>112.40</td>\n",
       "      <td>142.5</td>\n",
       "      <td>220.0</td>\n",
       "    </tr>\n",
       "    <tr>\n",
       "      <th>3</th>\n",
       "      <td>F</td>\n",
       "      <td>Raw</td>\n",
       "      <td>35.0</td>\n",
       "      <td>59.42</td>\n",
       "      <td>95.0</td>\n",
       "      <td>102.5</td>\n",
       "    </tr>\n",
       "    <tr>\n",
       "      <th>4</th>\n",
       "      <td>F</td>\n",
       "      <td>Raw</td>\n",
       "      <td>26.5</td>\n",
       "      <td>61.40</td>\n",
       "      <td>105.0</td>\n",
       "      <td>127.5</td>\n",
       "    </tr>\n",
       "  </tbody>\n",
       "</table>\n",
       "</div>"
      ],
      "text/plain": [
       "  Sex Equipment   Age  BodyweightKg  BestSquatKg  BestDeadliftKg\n",
       "0   M       Raw  23.0         87.30        205.0           235.0\n",
       "1   M     Wraps  23.0         73.48        220.0           260.0\n",
       "2   M       Raw  26.0        112.40        142.5           220.0\n",
       "3   F       Raw  35.0         59.42         95.0           102.5\n",
       "4   F       Raw  26.5         61.40        105.0           127.5"
      ]
     },
     "execution_count": 21,
     "metadata": {},
     "output_type": "execute_result"
    }
   ],
   "source": [
    "df.head()"
   ]
  },
  {
   "cell_type": "code",
   "execution_count": 22,
   "id": "6d0c2571",
   "metadata": {},
   "outputs": [
    {
     "data": {
      "text/html": [
       "<div>\n",
       "<style scoped>\n",
       "    .dataframe tbody tr th:only-of-type {\n",
       "        vertical-align: middle;\n",
       "    }\n",
       "\n",
       "    .dataframe tbody tr th {\n",
       "        vertical-align: top;\n",
       "    }\n",
       "\n",
       "    .dataframe thead th {\n",
       "        text-align: right;\n",
       "    }\n",
       "</style>\n",
       "<table border=\"1\" class=\"dataframe\">\n",
       "  <thead>\n",
       "    <tr style=\"text-align: right;\">\n",
       "      <th></th>\n",
       "      <th>Age</th>\n",
       "      <th>BodyweightKg</th>\n",
       "      <th>BestSquatKg</th>\n",
       "      <th>BestDeadliftKg</th>\n",
       "    </tr>\n",
       "  </thead>\n",
       "  <tbody>\n",
       "    <tr>\n",
       "      <th>Age</th>\n",
       "      <td>1.000000</td>\n",
       "      <td>0.109964</td>\n",
       "      <td>-0.024864</td>\n",
       "      <td>-0.030722</td>\n",
       "    </tr>\n",
       "    <tr>\n",
       "      <th>BodyweightKg</th>\n",
       "      <td>0.109964</td>\n",
       "      <td>1.000000</td>\n",
       "      <td>0.532202</td>\n",
       "      <td>0.636692</td>\n",
       "    </tr>\n",
       "    <tr>\n",
       "      <th>BestSquatKg</th>\n",
       "      <td>-0.024864</td>\n",
       "      <td>0.532202</td>\n",
       "      <td>1.000000</td>\n",
       "      <td>0.745403</td>\n",
       "    </tr>\n",
       "    <tr>\n",
       "      <th>BestDeadliftKg</th>\n",
       "      <td>-0.030722</td>\n",
       "      <td>0.636692</td>\n",
       "      <td>0.745403</td>\n",
       "      <td>1.000000</td>\n",
       "    </tr>\n",
       "  </tbody>\n",
       "</table>\n",
       "</div>"
      ],
      "text/plain": [
       "                     Age  BodyweightKg  BestSquatKg  BestDeadliftKg\n",
       "Age             1.000000      0.109964    -0.024864       -0.030722\n",
       "BodyweightKg    0.109964      1.000000     0.532202        0.636692\n",
       "BestSquatKg    -0.024864      0.532202     1.000000        0.745403\n",
       "BestDeadliftKg -0.030722      0.636692     0.745403        1.000000"
      ]
     },
     "execution_count": 22,
     "metadata": {},
     "output_type": "execute_result"
    }
   ],
   "source": [
    "df.corr()"
   ]
  },
  {
   "cell_type": "code",
   "execution_count": null,
   "id": "f45a697c",
   "metadata": {},
   "outputs": [],
   "source": []
  },
  {
   "cell_type": "code",
   "execution_count": 23,
   "id": "651f7dfa",
   "metadata": {},
   "outputs": [
    {
     "data": {
      "text/plain": [
       "array([ 87.3 ,  73.48, 112.4 , ..., 118.16, 145.5 ,  51.16])"
      ]
     },
     "execution_count": 23,
     "metadata": {},
     "output_type": "execute_result"
    }
   ],
   "source": [
    "df['BodyweightKg'].unique()"
   ]
  },
  {
   "cell_type": "code",
   "execution_count": 24,
   "id": "5b951807",
   "metadata": {},
   "outputs": [
    {
     "data": {
      "image/png": "[encoded data removed]",
      "text/plain": [
       "<Figure size 432x288 with 1 Axes>"
      ]
     },
     "metadata": {
      "needs_background": "light"
     },
     "output_type": "display_data"
    },
    {
     "data": {
      "image/png": "[encoded data removed]",
      "text/plain": [
       "<Figure size 432x288 with 1 Axes>"
      ]
     },
     "metadata": {
      "needs_background": "light"
     },
     "output_type": "display_data"
    },
    {
     "data": {
      "image/png": "[encoded data removed]",
      "text/plain": [
       "<Figure size 432x288 with 1 Axes>"
      ]
     },
     "metadata": {
      "needs_background": "light"
     },
     "output_type": "display_data"
    }
   ],
   "source": [
    "numerical_col = [feature for feature in df.columns if df[feature].dtypes != 'O' and feature not in 'Age']\n",
    "for feature in numerical_col:\n",
    "    df[feature].hist(bins=20)\n",
    "    plt.xlabel(feature)\n",
    "    plt.show()\n",
    "    "
   ]
  },
  {
   "cell_type": "code",
   "execution_count": 25,
   "id": "44b23ac7",
   "metadata": {},
   "outputs": [
    {
     "data": {
      "text/plain": [
       "array([ 87.3 ,  73.48, 112.4 , ..., 118.16, 145.5 ,  51.16])"
      ]
     },
     "execution_count": 25,
     "metadata": {},
     "output_type": "execute_result"
    }
   ],
   "source": [
    "df['BodyweightKg'].unique()"
   ]
  },
  {
   "cell_type": "code",
   "execution_count": 26,
   "id": "37f85258",
   "metadata": {},
   "outputs": [
    {
     "data": {
      "image/png": "[encoded data removed]",
      "text/plain": [
       "<Figure size 432x288 with 1 Axes>"
      ]
     },
     "metadata": {
      "needs_background": "light"
     },
     "output_type": "display_data"
    },
    {
     "data": {
      "image/png": "[encoded data removed]",
      "text/plain": [
       "<Figure size 432x288 with 1 Axes>"
      ]
     },
     "metadata": {
      "needs_background": "light"
     },
     "output_type": "display_data"
    },
    {
     "data": {
      "image/png": "[encoded data removed]",
      "text/plain": [
       "<Figure size 432x288 with 1 Axes>"
      ]
     },
     "metadata": {
      "needs_background": "light"
     },
     "output_type": "display_data"
    }
   ],
   "source": [
    "import warnings\n",
    "warnings.filterwarnings('ignore')\n",
    "for feature in numerical_col:\n",
    "    sns.boxplot(df[feature])\n",
    "    plt.show()"
   ]
  },
  {
   "cell_type": "markdown",
   "id": "45d20b35",
   "metadata": {},
   "source": [
    "df['BodyweightKg'].unique()"
   ]
  },
  {
   "cell_type": "code",
   "execution_count": 27,
   "id": "3d2d3b3e",
   "metadata": {},
   "outputs": [
    {
     "data": {
      "text/html": [
       "<div>\n",
       "<style scoped>\n",
       "    .dataframe tbody tr th:only-of-type {\n",
       "        vertical-align: middle;\n",
       "    }\n",
       "\n",
       "    .dataframe tbody tr th {\n",
       "        vertical-align: top;\n",
       "    }\n",
       "\n",
       "    .dataframe thead th {\n",
       "        text-align: right;\n",
       "    }\n",
       "</style>\n",
       "<table border=\"1\" class=\"dataframe\">\n",
       "  <thead>\n",
       "    <tr style=\"text-align: right;\">\n",
       "      <th></th>\n",
       "      <th>Age</th>\n",
       "      <th>BodyweightKg</th>\n",
       "      <th>BestSquatKg</th>\n",
       "      <th>BestDeadliftKg</th>\n",
       "    </tr>\n",
       "  </thead>\n",
       "  <tbody>\n",
       "    <tr>\n",
       "      <th>Age</th>\n",
       "      <td>1.000000</td>\n",
       "      <td>0.109964</td>\n",
       "      <td>-0.024864</td>\n",
       "      <td>-0.030722</td>\n",
       "    </tr>\n",
       "    <tr>\n",
       "      <th>BodyweightKg</th>\n",
       "      <td>0.109964</td>\n",
       "      <td>1.000000</td>\n",
       "      <td>0.532202</td>\n",
       "      <td>0.636692</td>\n",
       "    </tr>\n",
       "    <tr>\n",
       "      <th>BestSquatKg</th>\n",
       "      <td>-0.024864</td>\n",
       "      <td>0.532202</td>\n",
       "      <td>1.000000</td>\n",
       "      <td>0.745403</td>\n",
       "    </tr>\n",
       "    <tr>\n",
       "      <th>BestDeadliftKg</th>\n",
       "      <td>-0.030722</td>\n",
       "      <td>0.636692</td>\n",
       "      <td>0.745403</td>\n",
       "      <td>1.000000</td>\n",
       "    </tr>\n",
       "  </tbody>\n",
       "</table>\n",
       "</div>"
      ],
      "text/plain": [
       "                     Age  BodyweightKg  BestSquatKg  BestDeadliftKg\n",
       "Age             1.000000      0.109964    -0.024864       -0.030722\n",
       "BodyweightKg    0.109964      1.000000     0.532202        0.636692\n",
       "BestSquatKg    -0.024864      0.532202     1.000000        0.745403\n",
       "BestDeadliftKg -0.030722      0.636692     0.745403        1.000000"
      ]
     },
     "execution_count": 27,
     "metadata": {},
     "output_type": "execute_result"
    }
   ],
   "source": [
    "df.corr()"
   ]
  },
  {
   "cell_type": "code",
   "execution_count": 28,
   "id": "3ee731dc",
   "metadata": {},
   "outputs": [
    {
     "data": {
      "text/plain": [
       "array([ 87.3 ,  73.48, 112.4 , ..., 118.16, 145.5 ,  51.16])"
      ]
     },
     "execution_count": 28,
     "metadata": {},
     "output_type": "execute_result"
    }
   ],
   "source": [
    "df['BodyweightKg'].unique()"
   ]
  },
  {
   "cell_type": "code",
   "execution_count": 29,
   "id": "279e469a",
   "metadata": {},
   "outputs": [
    {
     "data": {
      "text/plain": [
       "<AxesSubplot:xlabel='BestSquatKg', ylabel='BestDeadliftKg'>"
      ]
     },
     "execution_count": 29,
     "metadata": {},
     "output_type": "execute_result"
    },
    {
     "data": {
      "image/png": "[encoded data removed]",
      "text/plain": [
       "<Figure size 432x288 with 1 Axes>"
      ]
     },
     "metadata": {
      "needs_background": "light"
     },
     "output_type": "display_data"
    }
   ],
   "source": [
    "sns.scatterplot(x='BestSquatKg',y='BestDeadliftKg',data=df)"
   ]
  },
  {
   "cell_type": "code",
   "execution_count": 30,
   "id": "10f622ee",
   "metadata": {},
   "outputs": [
    {
     "data": {
      "text/plain": [
       "31.269999999999996"
      ]
     },
     "execution_count": 30,
     "metadata": {},
     "output_type": "execute_result"
    }
   ],
   "source": [
    "IQR = df['BodyweightKg'].quantile(0.75) -df['BodyweightKg'].quantile(0.25)\n",
    "IQR"
   ]
  },
  {
   "cell_type": "code",
   "execution_count": 31,
   "id": "be193c23",
   "metadata": {},
   "outputs": [
    {
     "data": {
      "text/plain": [
       "20.79500000000001"
      ]
     },
     "execution_count": 31,
     "metadata": {},
     "output_type": "execute_result"
    }
   ],
   "source": [
    "lower_limit = df['BodyweightKg'].quantile(0.25) - IQR*1.5\n",
    "lower_limit"
   ]
  },
  {
   "cell_type": "code",
   "execution_count": 32,
   "id": "34c4c327",
   "metadata": {},
   "outputs": [
    {
     "data": {
      "text/plain": [
       "114.60499999999999"
      ]
     },
     "execution_count": 32,
     "metadata": {},
     "output_type": "execute_result"
    }
   ],
   "source": [
    "upper_limit = df['BodyweightKg'].quantile(0.25) + IQR*1.5\n",
    "upper_limit"
   ]
  },
  {
   "cell_type": "code",
   "execution_count": 33,
   "id": "781e43e2",
   "metadata": {},
   "outputs": [
    {
     "data": {
      "text/plain": [
       "0         87.30\n",
       "1         73.48\n",
       "2        112.40\n",
       "3         59.42\n",
       "4         61.40\n",
       "          ...  \n",
       "18895     65.70\n",
       "18896     88.85\n",
       "18897    106.78\n",
       "18898     82.00\n",
       "18899     59.42\n",
       "Name: BodyweightKg, Length: 18900, dtype: float64"
      ]
     },
     "execution_count": 33,
     "metadata": {},
     "output_type": "execute_result"
    }
   ],
   "source": [
    "df['BodyweightKg']  = np.where(df['BodyweightKg'] < 20.79,20.79,df['BodyweightKg'])\n",
    "df['BodyweightKg']"
   ]
  },
  {
   "cell_type": "code",
   "execution_count": 108,
   "id": "ee654164",
   "metadata": {},
   "outputs": [],
   "source": [
    "Equipment =['Equipment']"
   ]
  },
  {
   "cell_type": "code",
   "execution_count": 109,
   "id": "3550857c",
   "metadata": {},
   "outputs": [
    {
     "data": {
      "image/png": "[encoded data removed]",
      "text/plain": [
       "<Figure size 1440x720 with 1 Axes>"
      ]
     },
     "metadata": {
      "needs_background": "light"
     },
     "output_type": "display_data"
    }
   ],
   "source": [
    "plt.figure(figsize=(20,10))\n",
    "for i, plot in enumerate (numeric):\n",
    "    plt.subplot(2,2,i+1)\n",
    "    sns.countplot(x=plot,hue='Sex',data=df)\n",
    "    plt.show()"
   ]
  },
  {
   "cell_type": "code",
   "execution_count": 34,
   "id": "7666b433",
   "metadata": {},
   "outputs": [
    {
     "data": {
      "text/plain": [
       "0         87.30\n",
       "1         73.48\n",
       "2        112.40\n",
       "3         59.42\n",
       "4         61.40\n",
       "          ...  \n",
       "18895     65.70\n",
       "18896     88.85\n",
       "18897    106.78\n",
       "18898     82.00\n",
       "18899     59.42\n",
       "Name: BodyweightKg, Length: 18900, dtype: float64"
      ]
     },
     "execution_count": 34,
     "metadata": {},
     "output_type": "execute_result"
    }
   ],
   "source": [
    "df['BodyweightKg']  = np.where(df['BodyweightKg'] >114.60,114.60,df['BodyweightKg'])\n",
    "df['BodyweightKg'] "
   ]
  },
  {
   "cell_type": "code",
   "execution_count": 35,
   "id": "982d092e",
   "metadata": {},
   "outputs": [
    {
     "data": {
      "text/plain": [
       "<AxesSubplot:xlabel='BodyweightKg'>"
      ]
     },
     "execution_count": 35,
     "metadata": {},
     "output_type": "execute_result"
    },
    {
     "data": {
      "image/png": "[encoded data removed]",
      "text/plain": [
       "<Figure size 432x288 with 1 Axes>"
      ]
     },
     "metadata": {
      "needs_background": "light"
     },
     "output_type": "display_data"
    }
   ],
   "source": [
    "sns.boxplot(df['BodyweightKg'] )"
   ]
  },
  {
   "cell_type": "code",
   "execution_count": null,
   "id": "bc268ca8",
   "metadata": {},
   "outputs": [],
   "source": []
  },
  {
   "cell_type": "code",
   "execution_count": 36,
   "id": "e79d1261",
   "metadata": {},
   "outputs": [
    {
     "name": "stdout",
     "output_type": "stream",
     "text": [
      "3.393749999999983\n",
      "393.96375\n",
      "201.12277037037026\n"
     ]
    },
    {
     "data": {
      "text/plain": [
       "(None, None, None)"
      ]
     },
     "execution_count": 36,
     "metadata": {},
     "output_type": "execute_result"
    }
   ],
   "source": [
    "IQR = df['BestDeadliftKg'].quantile(0.75)- df['BestDeadliftKg'].quantile(0.25)\n",
    "lower_limit = df['BestDeadliftKg'].quantile(0.25) - IQR*1.5\n",
    "upper_limit = df['BestDeadliftKg'].quantile(0.75) + IQR*1.5\n",
    "print(lower_limit),print(upper_limit),print(df['BestDeadliftKg'].mean())"
   ]
  },
  {
   "cell_type": "markdown",
   "id": "1267765b",
   "metadata": {},
   "source": [
    "df['BodyweightKg'] = df.loc[df['BestDeadliftKg'] < 3.39 ,'BestDeadliftKg'] = 3.39\n",
    "df['BodyweightKg'] = df.loc[df['BestDeadliftKg'] > 296.32 ,'BestDeadliftKg'] = 296.32"
   ]
  },
  {
   "cell_type": "code",
   "execution_count": 37,
   "id": "1e187c02",
   "metadata": {},
   "outputs": [
    {
     "data": {
      "text/plain": [
       "0        235.00\n",
       "1        260.00\n",
       "2        220.00\n",
       "3        102.50\n",
       "4        127.50\n",
       "          ...  \n",
       "18895    135.00\n",
       "18896    230.00\n",
       "18897    229.06\n",
       "18898    272.50\n",
       "18899    140.00\n",
       "Name: BestDeadliftKg, Length: 18900, dtype: float64"
      ]
     },
     "execution_count": 37,
     "metadata": {},
     "output_type": "execute_result"
    }
   ],
   "source": [
    "df['BestDeadliftKg']  = np.where(df['BestDeadliftKg'] >393.96,393.96,df['BestDeadliftKg'])\n",
    "df['BestDeadliftKg']"
   ]
  },
  {
   "cell_type": "code",
   "execution_count": 38,
   "id": "9082f7f2",
   "metadata": {},
   "outputs": [
    {
     "data": {
      "text/plain": [
       "<AxesSubplot:xlabel='BestDeadliftKg'>"
      ]
     },
     "execution_count": 38,
     "metadata": {},
     "output_type": "execute_result"
    },
    {
     "data": {
      "image/png": "[encoded data removed]",
      "text/plain": [
       "<Figure size 432x288 with 1 Axes>"
      ]
     },
     "metadata": {
      "needs_background": "light"
     },
     "output_type": "display_data"
    }
   ],
   "source": [
    "sns.boxplot(data=df,x='BestDeadliftKg')"
   ]
  },
  {
   "cell_type": "code",
   "execution_count": 39,
   "id": "71a1e2fa",
   "metadata": {},
   "outputs": [
    {
     "name": "stdout",
     "output_type": "stream",
     "text": [
      "-21.25\n",
      "271.25\n",
      "180.43177883597866\n"
     ]
    },
    {
     "data": {
      "text/plain": [
       "(None, None, None)"
      ]
     },
     "execution_count": 39,
     "metadata": {},
     "output_type": "execute_result"
    }
   ],
   "source": [
    "IQR = df['BestSquatKg'].quantile(0.75)- df['BestSquatKg'].quantile(0.25)\n",
    "lower_limit = df['BestSquatKg'].quantile(0.25) - IQR*1.5\n",
    "upper_limit = df['BestSquatKg'].quantile(0.25) + IQR*1.5\n",
    "print(lower_limit),print(upper_limit),print(df['BestSquatKg'].mean())"
   ]
  },
  {
   "cell_type": "code",
   "execution_count": 40,
   "id": "e6d83cf5",
   "metadata": {},
   "outputs": [
    {
     "data": {
      "text/plain": [
       "0        205.00\n",
       "1        220.00\n",
       "2        142.50\n",
       "3         95.00\n",
       "4        105.00\n",
       "          ...  \n",
       "18895     92.50\n",
       "18896    190.00\n",
       "18897    206.38\n",
       "18898    235.00\n",
       "18899    130.00\n",
       "Name: BestSquatKg, Length: 18900, dtype: float64"
      ]
     },
     "execution_count": 40,
     "metadata": {},
     "output_type": "execute_result"
    }
   ],
   "source": [
    "df['BestSquatKg']  = np.where(df['BestSquatKg'] >271.25,271.25,df['BestSquatKg'])\n",
    "df['BestSquatKg']"
   ]
  },
  {
   "cell_type": "code",
   "execution_count": 41,
   "id": "89c10d5d",
   "metadata": {},
   "outputs": [
    {
     "data": {
      "text/plain": [
       "<AxesSubplot:xlabel='BestSquatKg'>"
      ]
     },
     "execution_count": 41,
     "metadata": {},
     "output_type": "execute_result"
    },
    {
     "data": {
      "image/png": "[encoded data removed]",
      "text/plain": [
       "<Figure size 432x288 with 1 Axes>"
      ]
     },
     "metadata": {
      "needs_background": "light"
     },
     "output_type": "display_data"
    }
   ],
   "source": [
    "sns.boxplot(data=df,x='BestSquatKg')"
   ]
  },
  {
   "cell_type": "code",
   "execution_count": 42,
   "id": "c40e5e8a",
   "metadata": {},
   "outputs": [
    {
     "data": {
      "text/html": [
       "<div>\n",
       "<style scoped>\n",
       "    .dataframe tbody tr th:only-of-type {\n",
       "        vertical-align: middle;\n",
       "    }\n",
       "\n",
       "    .dataframe tbody tr th {\n",
       "        vertical-align: top;\n",
       "    }\n",
       "\n",
       "    .dataframe thead th {\n",
       "        text-align: right;\n",
       "    }\n",
       "</style>\n",
       "<table border=\"1\" class=\"dataframe\">\n",
       "  <thead>\n",
       "    <tr style=\"text-align: right;\">\n",
       "      <th></th>\n",
       "      <th>Sex</th>\n",
       "      <th>Equipment</th>\n",
       "      <th>BodyweightKg</th>\n",
       "      <th>BestSquatKg</th>\n",
       "      <th>BestDeadliftKg</th>\n",
       "    </tr>\n",
       "  </thead>\n",
       "  <tbody>\n",
       "    <tr>\n",
       "      <th>0</th>\n",
       "      <td>M</td>\n",
       "      <td>Raw</td>\n",
       "      <td>87.30</td>\n",
       "      <td>205.00</td>\n",
       "      <td>235.00</td>\n",
       "    </tr>\n",
       "    <tr>\n",
       "      <th>1</th>\n",
       "      <td>M</td>\n",
       "      <td>Wraps</td>\n",
       "      <td>73.48</td>\n",
       "      <td>220.00</td>\n",
       "      <td>260.00</td>\n",
       "    </tr>\n",
       "    <tr>\n",
       "      <th>2</th>\n",
       "      <td>M</td>\n",
       "      <td>Raw</td>\n",
       "      <td>112.40</td>\n",
       "      <td>142.50</td>\n",
       "      <td>220.00</td>\n",
       "    </tr>\n",
       "    <tr>\n",
       "      <th>3</th>\n",
       "      <td>F</td>\n",
       "      <td>Raw</td>\n",
       "      <td>59.42</td>\n",
       "      <td>95.00</td>\n",
       "      <td>102.50</td>\n",
       "    </tr>\n",
       "    <tr>\n",
       "      <th>4</th>\n",
       "      <td>F</td>\n",
       "      <td>Raw</td>\n",
       "      <td>61.40</td>\n",
       "      <td>105.00</td>\n",
       "      <td>127.50</td>\n",
       "    </tr>\n",
       "    <tr>\n",
       "      <th>...</th>\n",
       "      <td>...</td>\n",
       "      <td>...</td>\n",
       "      <td>...</td>\n",
       "      <td>...</td>\n",
       "      <td>...</td>\n",
       "    </tr>\n",
       "    <tr>\n",
       "      <th>18895</th>\n",
       "      <td>F</td>\n",
       "      <td>Raw</td>\n",
       "      <td>65.70</td>\n",
       "      <td>92.50</td>\n",
       "      <td>135.00</td>\n",
       "    </tr>\n",
       "    <tr>\n",
       "      <th>18896</th>\n",
       "      <td>M</td>\n",
       "      <td>Raw</td>\n",
       "      <td>88.85</td>\n",
       "      <td>190.00</td>\n",
       "      <td>230.00</td>\n",
       "    </tr>\n",
       "    <tr>\n",
       "      <th>18897</th>\n",
       "      <td>M</td>\n",
       "      <td>Multi-ply</td>\n",
       "      <td>106.78</td>\n",
       "      <td>206.38</td>\n",
       "      <td>229.06</td>\n",
       "    </tr>\n",
       "    <tr>\n",
       "      <th>18898</th>\n",
       "      <td>M</td>\n",
       "      <td>Raw</td>\n",
       "      <td>82.00</td>\n",
       "      <td>235.00</td>\n",
       "      <td>272.50</td>\n",
       "    </tr>\n",
       "    <tr>\n",
       "      <th>18899</th>\n",
       "      <td>M</td>\n",
       "      <td>Single-ply</td>\n",
       "      <td>59.42</td>\n",
       "      <td>130.00</td>\n",
       "      <td>140.00</td>\n",
       "    </tr>\n",
       "  </tbody>\n",
       "</table>\n",
       "<p>18900 rows × 5 columns</p>\n",
       "</div>"
      ],
      "text/plain": [
       "      Sex   Equipment  BodyweightKg  BestSquatKg  BestDeadliftKg\n",
       "0       M         Raw         87.30       205.00          235.00\n",
       "1       M       Wraps         73.48       220.00          260.00\n",
       "2       M         Raw        112.40       142.50          220.00\n",
       "3       F         Raw         59.42        95.00          102.50\n",
       "4       F         Raw         61.40       105.00          127.50\n",
       "...    ..         ...           ...          ...             ...\n",
       "18895   F         Raw         65.70        92.50          135.00\n",
       "18896   M         Raw         88.85       190.00          230.00\n",
       "18897   M   Multi-ply        106.78       206.38          229.06\n",
       "18898   M         Raw         82.00       235.00          272.50\n",
       "18899   M  Single-ply         59.42       130.00          140.00\n",
       "\n",
       "[18900 rows x 5 columns]"
      ]
     },
     "execution_count": 42,
     "metadata": {},
     "output_type": "execute_result"
    }
   ],
   "source": [
    "df.drop('Age',axis=1)"
   ]
  },
  {
   "cell_type": "code",
   "execution_count": 43,
   "id": "74bce1db",
   "metadata": {},
   "outputs": [
    {
     "data": {
      "text/plain": [
       "array([ 87.3 ,  73.48, 112.4 , ...,  56.16,  72.61,  51.16])"
      ]
     },
     "execution_count": 43,
     "metadata": {},
     "output_type": "execute_result"
    }
   ],
   "source": [
    "df['BodyweightKg'].unique()"
   ]
  },
  {
   "cell_type": "code",
   "execution_count": 44,
   "id": "3558d2f7",
   "metadata": {},
   "outputs": [
    {
     "data": {
      "text/html": [
       "<div>\n",
       "<style scoped>\n",
       "    .dataframe tbody tr th:only-of-type {\n",
       "        vertical-align: middle;\n",
       "    }\n",
       "\n",
       "    .dataframe tbody tr th {\n",
       "        vertical-align: top;\n",
       "    }\n",
       "\n",
       "    .dataframe thead th {\n",
       "        text-align: right;\n",
       "    }\n",
       "</style>\n",
       "<table border=\"1\" class=\"dataframe\">\n",
       "  <thead>\n",
       "    <tr style=\"text-align: right;\">\n",
       "      <th></th>\n",
       "      <th>Sex</th>\n",
       "      <th>Equipment</th>\n",
       "      <th>Age</th>\n",
       "      <th>BodyweightKg</th>\n",
       "      <th>BestSquatKg</th>\n",
       "      <th>BestDeadliftKg</th>\n",
       "    </tr>\n",
       "  </thead>\n",
       "  <tbody>\n",
       "    <tr>\n",
       "      <th>0</th>\n",
       "      <td>M</td>\n",
       "      <td>Raw</td>\n",
       "      <td>23.0</td>\n",
       "      <td>87.30</td>\n",
       "      <td>205.0</td>\n",
       "      <td>235.0</td>\n",
       "    </tr>\n",
       "    <tr>\n",
       "      <th>1</th>\n",
       "      <td>M</td>\n",
       "      <td>Wraps</td>\n",
       "      <td>23.0</td>\n",
       "      <td>73.48</td>\n",
       "      <td>220.0</td>\n",
       "      <td>260.0</td>\n",
       "    </tr>\n",
       "    <tr>\n",
       "      <th>2</th>\n",
       "      <td>M</td>\n",
       "      <td>Raw</td>\n",
       "      <td>26.0</td>\n",
       "      <td>112.40</td>\n",
       "      <td>142.5</td>\n",
       "      <td>220.0</td>\n",
       "    </tr>\n",
       "    <tr>\n",
       "      <th>3</th>\n",
       "      <td>F</td>\n",
       "      <td>Raw</td>\n",
       "      <td>35.0</td>\n",
       "      <td>59.42</td>\n",
       "      <td>95.0</td>\n",
       "      <td>102.5</td>\n",
       "    </tr>\n",
       "    <tr>\n",
       "      <th>4</th>\n",
       "      <td>F</td>\n",
       "      <td>Raw</td>\n",
       "      <td>26.5</td>\n",
       "      <td>61.40</td>\n",
       "      <td>105.0</td>\n",
       "      <td>127.5</td>\n",
       "    </tr>\n",
       "  </tbody>\n",
       "</table>\n",
       "</div>"
      ],
      "text/plain": [
       "  Sex Equipment   Age  BodyweightKg  BestSquatKg  BestDeadliftKg\n",
       "0   M       Raw  23.0         87.30        205.0           235.0\n",
       "1   M     Wraps  23.0         73.48        220.0           260.0\n",
       "2   M       Raw  26.0        112.40        142.5           220.0\n",
       "3   F       Raw  35.0         59.42         95.0           102.5\n",
       "4   F       Raw  26.5         61.40        105.0           127.5"
      ]
     },
     "execution_count": 44,
     "metadata": {},
     "output_type": "execute_result"
    }
   ],
   "source": [
    "df.head()"
   ]
  },
  {
   "cell_type": "code",
   "execution_count": 45,
   "id": "e4fcdb5f",
   "metadata": {},
   "outputs": [
    {
     "data": {
      "text/html": [
       "<div>\n",
       "<style scoped>\n",
       "    .dataframe tbody tr th:only-of-type {\n",
       "        vertical-align: middle;\n",
       "    }\n",
       "\n",
       "    .dataframe tbody tr th {\n",
       "        vertical-align: top;\n",
       "    }\n",
       "\n",
       "    .dataframe thead th {\n",
       "        text-align: right;\n",
       "    }\n",
       "</style>\n",
       "<table border=\"1\" class=\"dataframe\">\n",
       "  <thead>\n",
       "    <tr style=\"text-align: right;\">\n",
       "      <th></th>\n",
       "      <th>Value_count</th>\n",
       "    </tr>\n",
       "  </thead>\n",
       "  <tbody>\n",
       "    <tr>\n",
       "      <th>Raw</th>\n",
       "      <td>12277</td>\n",
       "    </tr>\n",
       "    <tr>\n",
       "      <th>Wraps</th>\n",
       "      <td>3965</td>\n",
       "    </tr>\n",
       "    <tr>\n",
       "      <th>Single-ply</th>\n",
       "      <td>2317</td>\n",
       "    </tr>\n",
       "    <tr>\n",
       "      <th>Multi-ply</th>\n",
       "      <td>341</td>\n",
       "    </tr>\n",
       "  </tbody>\n",
       "</table>\n",
       "</div>"
      ],
      "text/plain": [
       "            Value_count\n",
       "Raw               12277\n",
       "Wraps              3965\n",
       "Single-ply         2317\n",
       "Multi-ply           341"
      ]
     },
     "execution_count": 45,
     "metadata": {},
     "output_type": "execute_result"
    }
   ],
   "source": [
    "pd.DataFrame({'Value_count': df['Equipment'].value_counts()})"
   ]
  },
  {
   "cell_type": "code",
   "execution_count": 46,
   "id": "f496270d",
   "metadata": {},
   "outputs": [
    {
     "data": {
      "text/html": [
       "<div>\n",
       "<style scoped>\n",
       "    .dataframe tbody tr th:only-of-type {\n",
       "        vertical-align: middle;\n",
       "    }\n",
       "\n",
       "    .dataframe tbody tr th {\n",
       "        vertical-align: top;\n",
       "    }\n",
       "\n",
       "    .dataframe thead th {\n",
       "        text-align: right;\n",
       "    }\n",
       "</style>\n",
       "<table border=\"1\" class=\"dataframe\">\n",
       "  <thead>\n",
       "    <tr style=\"text-align: right;\">\n",
       "      <th></th>\n",
       "      <th>M</th>\n",
       "    </tr>\n",
       "  </thead>\n",
       "  <tbody>\n",
       "    <tr>\n",
       "      <th>0</th>\n",
       "      <td>1</td>\n",
       "    </tr>\n",
       "    <tr>\n",
       "      <th>1</th>\n",
       "      <td>1</td>\n",
       "    </tr>\n",
       "    <tr>\n",
       "      <th>2</th>\n",
       "      <td>1</td>\n",
       "    </tr>\n",
       "    <tr>\n",
       "      <th>3</th>\n",
       "      <td>0</td>\n",
       "    </tr>\n",
       "    <tr>\n",
       "      <th>4</th>\n",
       "      <td>0</td>\n",
       "    </tr>\n",
       "    <tr>\n",
       "      <th>...</th>\n",
       "      <td>...</td>\n",
       "    </tr>\n",
       "    <tr>\n",
       "      <th>18895</th>\n",
       "      <td>0</td>\n",
       "    </tr>\n",
       "    <tr>\n",
       "      <th>18896</th>\n",
       "      <td>1</td>\n",
       "    </tr>\n",
       "    <tr>\n",
       "      <th>18897</th>\n",
       "      <td>1</td>\n",
       "    </tr>\n",
       "    <tr>\n",
       "      <th>18898</th>\n",
       "      <td>1</td>\n",
       "    </tr>\n",
       "    <tr>\n",
       "      <th>18899</th>\n",
       "      <td>1</td>\n",
       "    </tr>\n",
       "  </tbody>\n",
       "</table>\n",
       "<p>18900 rows × 1 columns</p>\n",
       "</div>"
      ],
      "text/plain": [
       "       M\n",
       "0      1\n",
       "1      1\n",
       "2      1\n",
       "3      0\n",
       "4      0\n",
       "...   ..\n",
       "18895  0\n",
       "18896  1\n",
       "18897  1\n",
       "18898  1\n",
       "18899  1\n",
       "\n",
       "[18900 rows x 1 columns]"
      ]
     },
     "execution_count": 46,
     "metadata": {},
     "output_type": "execute_result"
    }
   ],
   "source": [
    "sex = pd.get_dummies(df['Sex'],drop_first=True)\n",
    "sex"
   ]
  },
  {
   "cell_type": "code",
   "execution_count": 47,
   "id": "5cd5fd38",
   "metadata": {},
   "outputs": [
    {
     "data": {
      "text/html": [
       "<div>\n",
       "<style scoped>\n",
       "    .dataframe tbody tr th:only-of-type {\n",
       "        vertical-align: middle;\n",
       "    }\n",
       "\n",
       "    .dataframe tbody tr th {\n",
       "        vertical-align: top;\n",
       "    }\n",
       "\n",
       "    .dataframe thead th {\n",
       "        text-align: right;\n",
       "    }\n",
       "</style>\n",
       "<table border=\"1\" class=\"dataframe\">\n",
       "  <thead>\n",
       "    <tr style=\"text-align: right;\">\n",
       "      <th></th>\n",
       "      <th>Raw</th>\n",
       "      <th>Single-ply</th>\n",
       "      <th>Wraps</th>\n",
       "    </tr>\n",
       "  </thead>\n",
       "  <tbody>\n",
       "    <tr>\n",
       "      <th>0</th>\n",
       "      <td>1</td>\n",
       "      <td>0</td>\n",
       "      <td>0</td>\n",
       "    </tr>\n",
       "    <tr>\n",
       "      <th>1</th>\n",
       "      <td>0</td>\n",
       "      <td>0</td>\n",
       "      <td>1</td>\n",
       "    </tr>\n",
       "    <tr>\n",
       "      <th>2</th>\n",
       "      <td>1</td>\n",
       "      <td>0</td>\n",
       "      <td>0</td>\n",
       "    </tr>\n",
       "    <tr>\n",
       "      <th>3</th>\n",
       "      <td>1</td>\n",
       "      <td>0</td>\n",
       "      <td>0</td>\n",
       "    </tr>\n",
       "    <tr>\n",
       "      <th>4</th>\n",
       "      <td>1</td>\n",
       "      <td>0</td>\n",
       "      <td>0</td>\n",
       "    </tr>\n",
       "    <tr>\n",
       "      <th>...</th>\n",
       "      <td>...</td>\n",
       "      <td>...</td>\n",
       "      <td>...</td>\n",
       "    </tr>\n",
       "    <tr>\n",
       "      <th>18895</th>\n",
       "      <td>1</td>\n",
       "      <td>0</td>\n",
       "      <td>0</td>\n",
       "    </tr>\n",
       "    <tr>\n",
       "      <th>18896</th>\n",
       "      <td>1</td>\n",
       "      <td>0</td>\n",
       "      <td>0</td>\n",
       "    </tr>\n",
       "    <tr>\n",
       "      <th>18897</th>\n",
       "      <td>0</td>\n",
       "      <td>0</td>\n",
       "      <td>0</td>\n",
       "    </tr>\n",
       "    <tr>\n",
       "      <th>18898</th>\n",
       "      <td>1</td>\n",
       "      <td>0</td>\n",
       "      <td>0</td>\n",
       "    </tr>\n",
       "    <tr>\n",
       "      <th>18899</th>\n",
       "      <td>0</td>\n",
       "      <td>1</td>\n",
       "      <td>0</td>\n",
       "    </tr>\n",
       "  </tbody>\n",
       "</table>\n",
       "<p>18900 rows × 3 columns</p>\n",
       "</div>"
      ],
      "text/plain": [
       "       Raw  Single-ply  Wraps\n",
       "0        1           0      0\n",
       "1        0           0      1\n",
       "2        1           0      0\n",
       "3        1           0      0\n",
       "4        1           0      0\n",
       "...    ...         ...    ...\n",
       "18895    1           0      0\n",
       "18896    1           0      0\n",
       "18897    0           0      0\n",
       "18898    1           0      0\n",
       "18899    0           1      0\n",
       "\n",
       "[18900 rows x 3 columns]"
      ]
     },
     "execution_count": 47,
     "metadata": {},
     "output_type": "execute_result"
    }
   ],
   "source": [
    "\n",
    "Equipment = pd.get_dummies(df['Equipment'],drop_first= True)\n",
    "Equipment"
   ]
  },
  {
   "cell_type": "code",
   "execution_count": 48,
   "id": "84a4aee3",
   "metadata": {},
   "outputs": [
    {
     "data": {
      "text/html": [
       "<div>\n",
       "<style scoped>\n",
       "    .dataframe tbody tr th:only-of-type {\n",
       "        vertical-align: middle;\n",
       "    }\n",
       "\n",
       "    .dataframe tbody tr th {\n",
       "        vertical-align: top;\n",
       "    }\n",
       "\n",
       "    .dataframe thead th {\n",
       "        text-align: right;\n",
       "    }\n",
       "</style>\n",
       "<table border=\"1\" class=\"dataframe\">\n",
       "  <thead>\n",
       "    <tr style=\"text-align: right;\">\n",
       "      <th></th>\n",
       "      <th>Sex</th>\n",
       "      <th>Equipment</th>\n",
       "      <th>Age</th>\n",
       "      <th>BodyweightKg</th>\n",
       "      <th>BestSquatKg</th>\n",
       "      <th>BestDeadliftKg</th>\n",
       "    </tr>\n",
       "  </thead>\n",
       "  <tbody>\n",
       "    <tr>\n",
       "      <th>0</th>\n",
       "      <td>M</td>\n",
       "      <td>Raw</td>\n",
       "      <td>23.0</td>\n",
       "      <td>87.30</td>\n",
       "      <td>205.00</td>\n",
       "      <td>235.00</td>\n",
       "    </tr>\n",
       "    <tr>\n",
       "      <th>1</th>\n",
       "      <td>M</td>\n",
       "      <td>Wraps</td>\n",
       "      <td>23.0</td>\n",
       "      <td>73.48</td>\n",
       "      <td>220.00</td>\n",
       "      <td>260.00</td>\n",
       "    </tr>\n",
       "    <tr>\n",
       "      <th>2</th>\n",
       "      <td>M</td>\n",
       "      <td>Raw</td>\n",
       "      <td>26.0</td>\n",
       "      <td>112.40</td>\n",
       "      <td>142.50</td>\n",
       "      <td>220.00</td>\n",
       "    </tr>\n",
       "    <tr>\n",
       "      <th>3</th>\n",
       "      <td>F</td>\n",
       "      <td>Raw</td>\n",
       "      <td>35.0</td>\n",
       "      <td>59.42</td>\n",
       "      <td>95.00</td>\n",
       "      <td>102.50</td>\n",
       "    </tr>\n",
       "    <tr>\n",
       "      <th>4</th>\n",
       "      <td>F</td>\n",
       "      <td>Raw</td>\n",
       "      <td>26.5</td>\n",
       "      <td>61.40</td>\n",
       "      <td>105.00</td>\n",
       "      <td>127.50</td>\n",
       "    </tr>\n",
       "    <tr>\n",
       "      <th>...</th>\n",
       "      <td>...</td>\n",
       "      <td>...</td>\n",
       "      <td>...</td>\n",
       "      <td>...</td>\n",
       "      <td>...</td>\n",
       "      <td>...</td>\n",
       "    </tr>\n",
       "    <tr>\n",
       "      <th>18895</th>\n",
       "      <td>F</td>\n",
       "      <td>Raw</td>\n",
       "      <td>20.0</td>\n",
       "      <td>65.70</td>\n",
       "      <td>92.50</td>\n",
       "      <td>135.00</td>\n",
       "    </tr>\n",
       "    <tr>\n",
       "      <th>18896</th>\n",
       "      <td>M</td>\n",
       "      <td>Raw</td>\n",
       "      <td>23.5</td>\n",
       "      <td>88.85</td>\n",
       "      <td>190.00</td>\n",
       "      <td>230.00</td>\n",
       "    </tr>\n",
       "    <tr>\n",
       "      <th>18897</th>\n",
       "      <td>M</td>\n",
       "      <td>Multi-ply</td>\n",
       "      <td>43.0</td>\n",
       "      <td>106.78</td>\n",
       "      <td>206.38</td>\n",
       "      <td>229.06</td>\n",
       "    </tr>\n",
       "    <tr>\n",
       "      <th>18898</th>\n",
       "      <td>M</td>\n",
       "      <td>Raw</td>\n",
       "      <td>22.5</td>\n",
       "      <td>82.00</td>\n",
       "      <td>235.00</td>\n",
       "      <td>272.50</td>\n",
       "    </tr>\n",
       "    <tr>\n",
       "      <th>18899</th>\n",
       "      <td>M</td>\n",
       "      <td>Single-ply</td>\n",
       "      <td>15.0</td>\n",
       "      <td>59.42</td>\n",
       "      <td>130.00</td>\n",
       "      <td>140.00</td>\n",
       "    </tr>\n",
       "  </tbody>\n",
       "</table>\n",
       "<p>18900 rows × 6 columns</p>\n",
       "</div>"
      ],
      "text/plain": [
       "      Sex   Equipment   Age  BodyweightKg  BestSquatKg  BestDeadliftKg\n",
       "0       M         Raw  23.0         87.30       205.00          235.00\n",
       "1       M       Wraps  23.0         73.48       220.00          260.00\n",
       "2       M         Raw  26.0        112.40       142.50          220.00\n",
       "3       F         Raw  35.0         59.42        95.00          102.50\n",
       "4       F         Raw  26.5         61.40       105.00          127.50\n",
       "...    ..         ...   ...           ...          ...             ...\n",
       "18895   F         Raw  20.0         65.70        92.50          135.00\n",
       "18896   M         Raw  23.5         88.85       190.00          230.00\n",
       "18897   M   Multi-ply  43.0        106.78       206.38          229.06\n",
       "18898   M         Raw  22.5         82.00       235.00          272.50\n",
       "18899   M  Single-ply  15.0         59.42       130.00          140.00\n",
       "\n",
       "[18900 rows x 6 columns]"
      ]
     },
     "execution_count": 48,
     "metadata": {},
     "output_type": "execute_result"
    }
   ],
   "source": [
    "data=df.copy()\n",
    "data"
   ]
  },
  {
   "cell_type": "code",
   "execution_count": 49,
   "id": "f515a78e",
   "metadata": {},
   "outputs": [
    {
     "data": {
      "text/html": [
       "<div>\n",
       "<style scoped>\n",
       "    .dataframe tbody tr th:only-of-type {\n",
       "        vertical-align: middle;\n",
       "    }\n",
       "\n",
       "    .dataframe tbody tr th {\n",
       "        vertical-align: top;\n",
       "    }\n",
       "\n",
       "    .dataframe thead th {\n",
       "        text-align: right;\n",
       "    }\n",
       "</style>\n",
       "<table border=\"1\" class=\"dataframe\">\n",
       "  <thead>\n",
       "    <tr style=\"text-align: right;\">\n",
       "      <th></th>\n",
       "      <th>Age</th>\n",
       "      <th>BodyweightKg</th>\n",
       "      <th>BestSquatKg</th>\n",
       "      <th>BestDeadliftKg</th>\n",
       "    </tr>\n",
       "  </thead>\n",
       "  <tbody>\n",
       "    <tr>\n",
       "      <th>0</th>\n",
       "      <td>23.0</td>\n",
       "      <td>87.30</td>\n",
       "      <td>205.00</td>\n",
       "      <td>235.00</td>\n",
       "    </tr>\n",
       "    <tr>\n",
       "      <th>1</th>\n",
       "      <td>23.0</td>\n",
       "      <td>73.48</td>\n",
       "      <td>220.00</td>\n",
       "      <td>260.00</td>\n",
       "    </tr>\n",
       "    <tr>\n",
       "      <th>2</th>\n",
       "      <td>26.0</td>\n",
       "      <td>112.40</td>\n",
       "      <td>142.50</td>\n",
       "      <td>220.00</td>\n",
       "    </tr>\n",
       "    <tr>\n",
       "      <th>3</th>\n",
       "      <td>35.0</td>\n",
       "      <td>59.42</td>\n",
       "      <td>95.00</td>\n",
       "      <td>102.50</td>\n",
       "    </tr>\n",
       "    <tr>\n",
       "      <th>4</th>\n",
       "      <td>26.5</td>\n",
       "      <td>61.40</td>\n",
       "      <td>105.00</td>\n",
       "      <td>127.50</td>\n",
       "    </tr>\n",
       "    <tr>\n",
       "      <th>...</th>\n",
       "      <td>...</td>\n",
       "      <td>...</td>\n",
       "      <td>...</td>\n",
       "      <td>...</td>\n",
       "    </tr>\n",
       "    <tr>\n",
       "      <th>18895</th>\n",
       "      <td>20.0</td>\n",
       "      <td>65.70</td>\n",
       "      <td>92.50</td>\n",
       "      <td>135.00</td>\n",
       "    </tr>\n",
       "    <tr>\n",
       "      <th>18896</th>\n",
       "      <td>23.5</td>\n",
       "      <td>88.85</td>\n",
       "      <td>190.00</td>\n",
       "      <td>230.00</td>\n",
       "    </tr>\n",
       "    <tr>\n",
       "      <th>18897</th>\n",
       "      <td>43.0</td>\n",
       "      <td>106.78</td>\n",
       "      <td>206.38</td>\n",
       "      <td>229.06</td>\n",
       "    </tr>\n",
       "    <tr>\n",
       "      <th>18898</th>\n",
       "      <td>22.5</td>\n",
       "      <td>82.00</td>\n",
       "      <td>235.00</td>\n",
       "      <td>272.50</td>\n",
       "    </tr>\n",
       "    <tr>\n",
       "      <th>18899</th>\n",
       "      <td>15.0</td>\n",
       "      <td>59.42</td>\n",
       "      <td>130.00</td>\n",
       "      <td>140.00</td>\n",
       "    </tr>\n",
       "  </tbody>\n",
       "</table>\n",
       "<p>18900 rows × 4 columns</p>\n",
       "</div>"
      ],
      "text/plain": [
       "        Age  BodyweightKg  BestSquatKg  BestDeadliftKg\n",
       "0      23.0         87.30       205.00          235.00\n",
       "1      23.0         73.48       220.00          260.00\n",
       "2      26.0        112.40       142.50          220.00\n",
       "3      35.0         59.42        95.00          102.50\n",
       "4      26.5         61.40       105.00          127.50\n",
       "...     ...           ...          ...             ...\n",
       "18895  20.0         65.70        92.50          135.00\n",
       "18896  23.5         88.85       190.00          230.00\n",
       "18897  43.0        106.78       206.38          229.06\n",
       "18898  22.5         82.00       235.00          272.50\n",
       "18899  15.0         59.42       130.00          140.00\n",
       "\n",
       "[18900 rows x 4 columns]"
      ]
     },
     "execution_count": 49,
     "metadata": {},
     "output_type": "execute_result"
    }
   ],
   "source": [
    "data = data.drop (['Sex','Equipment'],axis=1)\n",
    "data"
   ]
  },
  {
   "cell_type": "code",
   "execution_count": 50,
   "id": "2187759a",
   "metadata": {},
   "outputs": [],
   "source": [
    "data= pd.concat([data,Equipment,sex],axis=1)"
   ]
  },
  {
   "cell_type": "code",
   "execution_count": 51,
   "id": "404d79e9",
   "metadata": {},
   "outputs": [
    {
     "data": {
      "text/html": [
       "<div>\n",
       "<style scoped>\n",
       "    .dataframe tbody tr th:only-of-type {\n",
       "        vertical-align: middle;\n",
       "    }\n",
       "\n",
       "    .dataframe tbody tr th {\n",
       "        vertical-align: top;\n",
       "    }\n",
       "\n",
       "    .dataframe thead th {\n",
       "        text-align: right;\n",
       "    }\n",
       "</style>\n",
       "<table border=\"1\" class=\"dataframe\">\n",
       "  <thead>\n",
       "    <tr style=\"text-align: right;\">\n",
       "      <th></th>\n",
       "      <th>Age</th>\n",
       "      <th>BodyweightKg</th>\n",
       "      <th>BestSquatKg</th>\n",
       "      <th>BestDeadliftKg</th>\n",
       "      <th>Raw</th>\n",
       "      <th>Single-ply</th>\n",
       "      <th>Wraps</th>\n",
       "      <th>M</th>\n",
       "    </tr>\n",
       "  </thead>\n",
       "  <tbody>\n",
       "    <tr>\n",
       "      <th>0</th>\n",
       "      <td>23.0</td>\n",
       "      <td>87.30</td>\n",
       "      <td>205.00</td>\n",
       "      <td>235.00</td>\n",
       "      <td>1</td>\n",
       "      <td>0</td>\n",
       "      <td>0</td>\n",
       "      <td>1</td>\n",
       "    </tr>\n",
       "    <tr>\n",
       "      <th>1</th>\n",
       "      <td>23.0</td>\n",
       "      <td>73.48</td>\n",
       "      <td>220.00</td>\n",
       "      <td>260.00</td>\n",
       "      <td>0</td>\n",
       "      <td>0</td>\n",
       "      <td>1</td>\n",
       "      <td>1</td>\n",
       "    </tr>\n",
       "    <tr>\n",
       "      <th>2</th>\n",
       "      <td>26.0</td>\n",
       "      <td>112.40</td>\n",
       "      <td>142.50</td>\n",
       "      <td>220.00</td>\n",
       "      <td>1</td>\n",
       "      <td>0</td>\n",
       "      <td>0</td>\n",
       "      <td>1</td>\n",
       "    </tr>\n",
       "    <tr>\n",
       "      <th>3</th>\n",
       "      <td>35.0</td>\n",
       "      <td>59.42</td>\n",
       "      <td>95.00</td>\n",
       "      <td>102.50</td>\n",
       "      <td>1</td>\n",
       "      <td>0</td>\n",
       "      <td>0</td>\n",
       "      <td>0</td>\n",
       "    </tr>\n",
       "    <tr>\n",
       "      <th>4</th>\n",
       "      <td>26.5</td>\n",
       "      <td>61.40</td>\n",
       "      <td>105.00</td>\n",
       "      <td>127.50</td>\n",
       "      <td>1</td>\n",
       "      <td>0</td>\n",
       "      <td>0</td>\n",
       "      <td>0</td>\n",
       "    </tr>\n",
       "    <tr>\n",
       "      <th>...</th>\n",
       "      <td>...</td>\n",
       "      <td>...</td>\n",
       "      <td>...</td>\n",
       "      <td>...</td>\n",
       "      <td>...</td>\n",
       "      <td>...</td>\n",
       "      <td>...</td>\n",
       "      <td>...</td>\n",
       "    </tr>\n",
       "    <tr>\n",
       "      <th>18895</th>\n",
       "      <td>20.0</td>\n",
       "      <td>65.70</td>\n",
       "      <td>92.50</td>\n",
       "      <td>135.00</td>\n",
       "      <td>1</td>\n",
       "      <td>0</td>\n",
       "      <td>0</td>\n",
       "      <td>0</td>\n",
       "    </tr>\n",
       "    <tr>\n",
       "      <th>18896</th>\n",
       "      <td>23.5</td>\n",
       "      <td>88.85</td>\n",
       "      <td>190.00</td>\n",
       "      <td>230.00</td>\n",
       "      <td>1</td>\n",
       "      <td>0</td>\n",
       "      <td>0</td>\n",
       "      <td>1</td>\n",
       "    </tr>\n",
       "    <tr>\n",
       "      <th>18897</th>\n",
       "      <td>43.0</td>\n",
       "      <td>106.78</td>\n",
       "      <td>206.38</td>\n",
       "      <td>229.06</td>\n",
       "      <td>0</td>\n",
       "      <td>0</td>\n",
       "      <td>0</td>\n",
       "      <td>1</td>\n",
       "    </tr>\n",
       "    <tr>\n",
       "      <th>18898</th>\n",
       "      <td>22.5</td>\n",
       "      <td>82.00</td>\n",
       "      <td>235.00</td>\n",
       "      <td>272.50</td>\n",
       "      <td>1</td>\n",
       "      <td>0</td>\n",
       "      <td>0</td>\n",
       "      <td>1</td>\n",
       "    </tr>\n",
       "    <tr>\n",
       "      <th>18899</th>\n",
       "      <td>15.0</td>\n",
       "      <td>59.42</td>\n",
       "      <td>130.00</td>\n",
       "      <td>140.00</td>\n",
       "      <td>0</td>\n",
       "      <td>1</td>\n",
       "      <td>0</td>\n",
       "      <td>1</td>\n",
       "    </tr>\n",
       "  </tbody>\n",
       "</table>\n",
       "<p>18900 rows × 8 columns</p>\n",
       "</div>"
      ],
      "text/plain": [
       "        Age  BodyweightKg  BestSquatKg  BestDeadliftKg  Raw  Single-ply  \\\n",
       "0      23.0         87.30       205.00          235.00    1           0   \n",
       "1      23.0         73.48       220.00          260.00    0           0   \n",
       "2      26.0        112.40       142.50          220.00    1           0   \n",
       "3      35.0         59.42        95.00          102.50    1           0   \n",
       "4      26.5         61.40       105.00          127.50    1           0   \n",
       "...     ...           ...          ...             ...  ...         ...   \n",
       "18895  20.0         65.70        92.50          135.00    1           0   \n",
       "18896  23.5         88.85       190.00          230.00    1           0   \n",
       "18897  43.0        106.78       206.38          229.06    0           0   \n",
       "18898  22.5         82.00       235.00          272.50    1           0   \n",
       "18899  15.0         59.42       130.00          140.00    0           1   \n",
       "\n",
       "       Wraps  M  \n",
       "0          0  1  \n",
       "1          1  1  \n",
       "2          0  1  \n",
       "3          0  0  \n",
       "4          0  0  \n",
       "...      ... ..  \n",
       "18895      0  0  \n",
       "18896      0  1  \n",
       "18897      0  1  \n",
       "18898      0  1  \n",
       "18899      0  1  \n",
       "\n",
       "[18900 rows x 8 columns]"
      ]
     },
     "execution_count": 51,
     "metadata": {},
     "output_type": "execute_result"
    }
   ],
   "source": [
    "data"
   ]
  },
  {
   "cell_type": "code",
   "execution_count": 65,
   "id": "d573dfd5",
   "metadata": {},
   "outputs": [],
   "source": [
    "X=data.loc[:,['Age','BodyweightKg','BestSquatKg','Raw','Single-ply','Wraps','M']]"
   ]
  },
  {
   "cell_type": "code",
   "execution_count": 66,
   "id": "30d30c61",
   "metadata": {},
   "outputs": [
    {
     "data": {
      "text/html": [
       "<div>\n",
       "<style scoped>\n",
       "    .dataframe tbody tr th:only-of-type {\n",
       "        vertical-align: middle;\n",
       "    }\n",
       "\n",
       "    .dataframe tbody tr th {\n",
       "        vertical-align: top;\n",
       "    }\n",
       "\n",
       "    .dataframe thead th {\n",
       "        text-align: right;\n",
       "    }\n",
       "</style>\n",
       "<table border=\"1\" class=\"dataframe\">\n",
       "  <thead>\n",
       "    <tr style=\"text-align: right;\">\n",
       "      <th></th>\n",
       "      <th>Age</th>\n",
       "      <th>BodyweightKg</th>\n",
       "      <th>BestSquatKg</th>\n",
       "      <th>Raw</th>\n",
       "      <th>Single-ply</th>\n",
       "      <th>Wraps</th>\n",
       "      <th>M</th>\n",
       "    </tr>\n",
       "  </thead>\n",
       "  <tbody>\n",
       "    <tr>\n",
       "      <th>0</th>\n",
       "      <td>23.0</td>\n",
       "      <td>87.30</td>\n",
       "      <td>205.0</td>\n",
       "      <td>1</td>\n",
       "      <td>0</td>\n",
       "      <td>0</td>\n",
       "      <td>1</td>\n",
       "    </tr>\n",
       "    <tr>\n",
       "      <th>1</th>\n",
       "      <td>23.0</td>\n",
       "      <td>73.48</td>\n",
       "      <td>220.0</td>\n",
       "      <td>0</td>\n",
       "      <td>0</td>\n",
       "      <td>1</td>\n",
       "      <td>1</td>\n",
       "    </tr>\n",
       "    <tr>\n",
       "      <th>2</th>\n",
       "      <td>26.0</td>\n",
       "      <td>112.40</td>\n",
       "      <td>142.5</td>\n",
       "      <td>1</td>\n",
       "      <td>0</td>\n",
       "      <td>0</td>\n",
       "      <td>1</td>\n",
       "    </tr>\n",
       "    <tr>\n",
       "      <th>3</th>\n",
       "      <td>35.0</td>\n",
       "      <td>59.42</td>\n",
       "      <td>95.0</td>\n",
       "      <td>1</td>\n",
       "      <td>0</td>\n",
       "      <td>0</td>\n",
       "      <td>0</td>\n",
       "    </tr>\n",
       "    <tr>\n",
       "      <th>4</th>\n",
       "      <td>26.5</td>\n",
       "      <td>61.40</td>\n",
       "      <td>105.0</td>\n",
       "      <td>1</td>\n",
       "      <td>0</td>\n",
       "      <td>0</td>\n",
       "      <td>0</td>\n",
       "    </tr>\n",
       "  </tbody>\n",
       "</table>\n",
       "</div>"
      ],
      "text/plain": [
       "    Age  BodyweightKg  BestSquatKg  Raw  Single-ply  Wraps  M\n",
       "0  23.0         87.30        205.0    1           0      0  1\n",
       "1  23.0         73.48        220.0    0           0      1  1\n",
       "2  26.0        112.40        142.5    1           0      0  1\n",
       "3  35.0         59.42         95.0    1           0      0  0\n",
       "4  26.5         61.40        105.0    1           0      0  0"
      ]
     },
     "execution_count": 66,
     "metadata": {},
     "output_type": "execute_result"
    }
   ],
   "source": [
    "X.head()"
   ]
  },
  {
   "cell_type": "code",
   "execution_count": 67,
   "id": "7dbfa733",
   "metadata": {},
   "outputs": [
    {
     "data": {
      "text/plain": [
       "0        235.00\n",
       "1        260.00\n",
       "2        220.00\n",
       "3        102.50\n",
       "4        127.50\n",
       "          ...  \n",
       "18895    135.00\n",
       "18896    230.00\n",
       "18897    229.06\n",
       "18898    272.50\n",
       "18899    140.00\n",
       "Name: BestDeadliftKg, Length: 18900, dtype: float64"
      ]
     },
     "execution_count": 67,
     "metadata": {},
     "output_type": "execute_result"
    }
   ],
   "source": [
    "y=data.iloc[:,3]\n",
    "y"
   ]
  },
  {
   "cell_type": "code",
   "execution_count": 71,
   "id": "0f35c2ac",
   "metadata": {},
   "outputs": [],
   "source": [
    "from sklearn.model_selection import train_test_split\n",
    "X_train,X_test,y_train,y_test = train_test_split(X,y,test_size=0.2)"
   ]
  },
  {
   "cell_type": "code",
   "execution_count": 72,
   "id": "e20ae7de",
   "metadata": {},
   "outputs": [
    {
     "data": {
      "text/plain": [
       "7871     140.00\n",
       "10927    110.00\n",
       "16372    227.50\n",
       "6461     190.00\n",
       "9440      92.99\n",
       "          ...  \n",
       "1989     245.00\n",
       "1550     260.00\n",
       "18607    230.00\n",
       "11630    192.50\n",
       "2546     180.00\n",
       "Name: BestDeadliftKg, Length: 15120, dtype: float64"
      ]
     },
     "execution_count": 72,
     "metadata": {},
     "output_type": "execute_result"
    }
   ],
   "source": [
    "y_train"
   ]
  },
  {
   "cell_type": "code",
   "execution_count": 73,
   "id": "7241e61c",
   "metadata": {},
   "outputs": [
    {
     "data": {
      "text/plain": [
       "RandomForestRegressor()"
      ]
     },
     "execution_count": 73,
     "metadata": {},
     "output_type": "execute_result"
    }
   ],
   "source": [
    "from sklearn.ensemble import RandomForestRegressor\n",
    "reg_rf = RandomForestRegressor()\n",
    "reg_rf.fit(X_train,y_train)\n"
   ]
  },
  {
   "cell_type": "code",
   "execution_count": 79,
   "id": "3f19cffa",
   "metadata": {},
   "outputs": [
    {
     "name": "stdout",
     "output_type": "stream",
     "text": [
      "[0.05309658 0.06810069 0.52317174 0.0054925  0.00314162 0.00327435\n",
      " 0.34372251]\n"
     ]
    },
    {
     "data": {
      "image/png": "[encoded data removed]",
      "text/plain": [
       "<Figure size 1296x864 with 1 Axes>"
      ]
     },
     "metadata": {
      "needs_background": "light"
     },
     "output_type": "display_data"
    }
   ],
   "source": [
    "from sklearn.ensemble import ExtraTreesRegressor \n",
    "selection = ExtraTreesRegressor()\n",
    "\n",
    "selection.fit(X,y)\n",
    "\n",
    "print(selection.feature_importances_)\n",
    "\n",
    "plt.figure(figsize=(18,12)) \n",
    "feat_importance= pd.Series(selection.feature_importances_,index=X.columns) \n",
    "feat_importance.nlargest(20).plot(kind='barh') \n",
    "plt.show()"
   ]
  },
  {
   "cell_type": "code",
   "execution_count": 80,
   "id": "3dc381cc",
   "metadata": {},
   "outputs": [],
   "source": [
    "y_pred = reg_rf.predict(X_test)"
   ]
  },
  {
   "cell_type": "code",
   "execution_count": 81,
   "id": "b81fcc1b",
   "metadata": {},
   "outputs": [
    {
     "data": {
      "text/plain": [
       "0.9709956448280885"
      ]
     },
     "execution_count": 81,
     "metadata": {},
     "output_type": "execute_result"
    }
   ],
   "source": [
    "reg_rf.score(X_train,y_train)"
   ]
  },
  {
   "cell_type": "code",
   "execution_count": 82,
   "id": "e1087828",
   "metadata": {},
   "outputs": [
    {
     "data": {
      "text/plain": [
       "0.8622631612256682"
      ]
     },
     "execution_count": 82,
     "metadata": {},
     "output_type": "execute_result"
    }
   ],
   "source": [
    "reg_rf.score(X_test, y_test)"
   ]
  },
  {
   "cell_type": "code",
   "execution_count": 83,
   "id": "f2882aa6",
   "metadata": {},
   "outputs": [
    {
     "data": {
      "image/png": "[encoded data removed]",
      "text/plain": [
       "<Figure size 432x288 with 1 Axes>"
      ]
     },
     "metadata": {
      "needs_background": "light"
     },
     "output_type": "display_data"
    }
   ],
   "source": [
    "sns.distplot(y_test-y_pred)\n",
    "plt.show()"
   ]
  },
  {
   "cell_type": "code",
   "execution_count": 84,
   "id": "3f63d369",
   "metadata": {},
   "outputs": [],
   "source": [
    "from sklearn import metrics"
   ]
  },
  {
   "cell_type": "code",
   "execution_count": 85,
   "id": "85165bec",
   "metadata": {},
   "outputs": [
    {
     "name": "stdout",
     "output_type": "stream",
     "text": [
      "MAE: 16.893692564193707\n",
      "MSE: 531.687631906992\n",
      "RMSE: 23.058352757883466\n"
     ]
    }
   ],
   "source": [
    "print('MAE:', metrics.mean_absolute_error(y_test, y_pred))\n",
    "print('MSE:', metrics.mean_squared_error(y_test, y_pred))\n",
    "print('RMSE:', np.sqrt(metrics.mean_squared_error(y_test, y_pred)))"
   ]
  },
  {
   "cell_type": "code",
   "execution_count": 86,
   "id": "6c293df9",
   "metadata": {},
   "outputs": [
    {
     "data": {
      "text/plain": [
       "0.8622631612256682"
      ]
     },
     "execution_count": 86,
     "metadata": {},
     "output_type": "execute_result"
    }
   ],
   "source": [
    "metrics.r2_score(y_test, y_pred)"
   ]
  },
  {
   "cell_type": "code",
   "execution_count": 87,
   "id": "44bdb196",
   "metadata": {},
   "outputs": [],
   "source": [
    "from sklearn.model_selection import RandomizedSearchCV"
   ]
  },
  {
   "cell_type": "code",
   "execution_count": 88,
   "id": "f26ea365",
   "metadata": {},
   "outputs": [],
   "source": [
    "n_estimators = [int(x) for x in np.linspace(start = 100, stop = 1200, num = 12)]\n",
    "max_features=['auto','squrt']\n",
    "max_depth =[int(x) for x in np.linspace(5,30,num=6)]\n",
    "min_samples_split =[2,5,10,15,100]\n",
    "min_samples_leaf =[1,2,5,10]"
   ]
  },
  {
   "cell_type": "code",
   "execution_count": 89,
   "id": "002c6b25",
   "metadata": {},
   "outputs": [],
   "source": [
    "random_grid={'n_estimators': n_estimators,\n",
    "              'max_features': max_features,\n",
    "               'max_depth': max_depth,\n",
    "               'min_samples_split': min_samples_split,\n",
    "               'min_samples_leaf': min_samples_leaf}"
   ]
  },
  {
   "cell_type": "code",
   "execution_count": 90,
   "id": "6ea16856",
   "metadata": {},
   "outputs": [],
   "source": [
    "rf_random = RandomizedSearchCV(estimator = reg_rf, param_distributions = random_grid,scoring='neg_mean_squared_error', n_iter = 10, cv = 5, verbose=2, random_state=42,n_jobs=-1)"
   ]
  },
  {
   "cell_type": "code",
   "execution_count": 91,
   "id": "605b32b8",
   "metadata": {},
   "outputs": [
    {
     "name": "stdout",
     "output_type": "stream",
     "text": [
      "Fitting 5 folds for each of 10 candidates, totalling 50 fits\n"
     ]
    },
    {
     "data": {
      "text/plain": [
       "RandomizedSearchCV(cv=5, estimator=RandomForestRegressor(), n_jobs=-1,\n",
       "                   param_distributions={'max_depth': [5, 10, 15, 20, 25, 30],\n",
       "                                        'max_features': ['auto', 'squrt'],\n",
       "                                        'min_samples_leaf': [1, 2, 5, 10],\n",
       "                                        'min_samples_split': [2, 5, 10, 15,\n",
       "                                                              100],\n",
       "                                        'n_estimators': [100, 200, 300, 400,\n",
       "                                                         500, 600, 700, 800,\n",
       "                                                         900, 1000, 1100,\n",
       "                                                         1200]},\n",
       "                   random_state=42, scoring='neg_mean_squared_error',\n",
       "                   verbose=2)"
      ]
     },
     "execution_count": 91,
     "metadata": {},
     "output_type": "execute_result"
    }
   ],
   "source": [
    "rf_random.fit(X_train,y_train)"
   ]
  },
  {
   "cell_type": "code",
   "execution_count": 92,
   "id": "1ed97e4f",
   "metadata": {},
   "outputs": [
    {
     "data": {
      "text/plain": [
       "{'n_estimators': 300,\n",
       " 'min_samples_split': 100,\n",
       " 'min_samples_leaf': 5,\n",
       " 'max_features': 'auto',\n",
       " 'max_depth': 15}"
      ]
     },
     "execution_count": 92,
     "metadata": {},
     "output_type": "execute_result"
    }
   ],
   "source": [
    "rf_random.best_params_"
   ]
  },
  {
   "cell_type": "code",
   "execution_count": 93,
   "id": "d1882119",
   "metadata": {},
   "outputs": [],
   "source": [
    "prediction = rf_random.predict(X_test)"
   ]
  },
  {
   "cell_type": "code",
   "execution_count": 94,
   "id": "44ea1c5d",
   "metadata": {},
   "outputs": [
    {
     "data": {
      "text/plain": [
       "array([234.91198185, 223.15189101, 266.60884226, ..., 147.01208679,\n",
       "       135.94459386, 265.86520789])"
      ]
     },
     "execution_count": 94,
     "metadata": {},
     "output_type": "execute_result"
    }
   ],
   "source": [
    "prediction"
   ]
  },
  {
   "cell_type": "code",
   "execution_count": 95,
   "id": "adb59087",
   "metadata": {},
   "outputs": [
    {
     "data": {
      "image/png": "[encoded data removed]",
      "text/plain": [
       "<Figure size 576x576 with 1 Axes>"
      ]
     },
     "metadata": {
      "needs_background": "light"
     },
     "output_type": "display_data"
    }
   ],
   "source": [
    "plt.figure(figsize = (8,8))\n",
    "sns.distplot(y_test-prediction)\n",
    "plt.show()"
   ]
  },
  {
   "cell_type": "code",
   "execution_count": 96,
   "id": "f96f2f51",
   "metadata": {},
   "outputs": [
    {
     "data": {
      "image/png": "[encoded data removed]",
      "text/plain": [
       "<Figure size 576x576 with 1 Axes>"
      ]
     },
     "metadata": {
      "needs_background": "light"
     },
     "output_type": "display_data"
    }
   ],
   "source": [
    "plt.figure(figsize = (8,8))\n",
    "plt.scatter(y_test, prediction, alpha = 0.5)\n",
    "plt.xlabel(\"y_test\")\n",
    "plt.ylabel(\"y_pred\")\n",
    "plt.show()"
   ]
  },
  {
   "cell_type": "code",
   "execution_count": 97,
   "id": "58f48f0a",
   "metadata": {},
   "outputs": [
    {
     "name": "stdout",
     "output_type": "stream",
     "text": [
      "MAE: 16.0692046225318\n",
      "MSE: 486.18960160799026\n",
      "RMSE: 22.049707517515742\n"
     ]
    }
   ],
   "source": [
    "print('MAE:', metrics.mean_absolute_error(y_test, prediction))\n",
    "print('MSE:', metrics.mean_squared_error(y_test, prediction))\n",
    "print('RMSE:', np.sqrt(metrics.mean_squared_error(y_test, prediction)))"
   ]
  },
  {
   "cell_type": "code",
   "execution_count": null,
   "id": "3b14acc4",
   "metadata": {},
   "outputs": [],
   "source": []
  }
 ],
 "metadata": {
  "kernelspec": {
   "display_name": "Python 3 (ipykernel)",
   "language": "python",
   "name": "python3"
  },
  "language_info": {
   "codemirror_mode": {
    "name": "ipython",
    "version": 3
   },
   "file_extension": ".py",
   "mimetype": "text/x-python",
   "name": "python",
   "nbconvert_exporter": "python",
   "pygments_lexer": "ipython3",
   "version": "3.9.12"
  }
 },
 "nbformat": 4,
 "nbformat_minor": 5
}
